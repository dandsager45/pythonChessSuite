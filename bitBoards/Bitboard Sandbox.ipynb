{
 "cells": [
  {
   "cell_type": "code",
   "execution_count": 1,
   "id": "54ad0402",
   "metadata": {},
   "outputs": [
    {
     "ename": "ImportError",
     "evalue": "cannot import name 'pretty_print_bb' from 'bitboardInfrastructure' (/home/daniel/dev/pythonChessSuite/bitBoards/bitboardInfrastructure.py)",
     "output_type": "error",
     "traceback": [
      "\u001b[0;31m---------------------------------------------------------------------------\u001b[0m",
      "\u001b[0;31mImportError\u001b[0m                               Traceback (most recent call last)",
      "\u001b[0;32m/tmp/ipykernel_2911/1353650907.py\u001b[0m in \u001b[0;36m<module>\u001b[0;34m\u001b[0m\n\u001b[1;32m      1\u001b[0m \u001b[0;32mimport\u001b[0m \u001b[0mnumpy\u001b[0m \u001b[0;32mas\u001b[0m \u001b[0mnp\u001b[0m\u001b[0;34m\u001b[0m\u001b[0;34m\u001b[0m\u001b[0m\n\u001b[0;32m----> 2\u001b[0;31m \u001b[0;32mfrom\u001b[0m \u001b[0mbitboardInfrastructure\u001b[0m \u001b[0;32mimport\u001b[0m \u001b[0mBoard\u001b[0m\u001b[0;34m,\u001b[0m \u001b[0mpretty_print_bb\u001b[0m\u001b[0;34m\u001b[0m\u001b[0;34m\u001b[0m\u001b[0m\n\u001b[0m\u001b[1;32m      3\u001b[0m \u001b[0;32mfrom\u001b[0m \u001b[0mconstants\u001b[0m \u001b[0;32mimport\u001b[0m \u001b[0mSquarePosition\u001b[0m \u001b[0;32mas\u001b[0m \u001b[0msq\u001b[0m\u001b[0;34m\u001b[0m\u001b[0;34m\u001b[0m\u001b[0m\n\u001b[1;32m      4\u001b[0m \u001b[0;32mfrom\u001b[0m \u001b[0mgame\u001b[0m \u001b[0;32mimport\u001b[0m \u001b[0mGame\u001b[0m\u001b[0;34m\u001b[0m\u001b[0;34m\u001b[0m\u001b[0m\n\u001b[1;32m      5\u001b[0m \u001b[0;32mfrom\u001b[0m \u001b[0mposition\u001b[0m \u001b[0;32mimport\u001b[0m \u001b[0mPosition\u001b[0m\u001b[0;34m\u001b[0m\u001b[0;34m\u001b[0m\u001b[0m\n",
      "\u001b[0;31mImportError\u001b[0m: cannot import name 'pretty_print_bb' from 'bitboardInfrastructure' (/home/daniel/dev/pythonChessSuite/bitBoards/bitboardInfrastructure.py)"
     ]
    }
   ],
   "source": [
    "import numpy as np\n",
    "from bitboardInfrastructure import Board, pretty_print_bb\n",
    "from constants import SquarePosition as sq\n",
    "from game import Game\n",
    "from position import Position"
   ]
  },
  {
   "cell_type": "code",
   "execution_count": 2,
   "id": "0b7a53fb",
   "metadata": {
    "scrolled": true
   },
   "outputs": [],
   "source": [
    "board = Board()\n"
   ]
  },
  {
   "cell_type": "code",
   "execution_count": 3,
   "id": "0e870394",
   "metadata": {},
   "outputs": [],
   "source": [
    "#state = board.update_occupied_squares_bb()\n"
   ]
  },
  {
   "cell_type": "code",
   "execution_count": 4,
   "id": "9ed6d532",
   "metadata": {},
   "outputs": [],
   "source": [
    "#board.occupied_squares_bb"
   ]
  },
  {
   "cell_type": "code",
   "execution_count": 5,
   "id": "44a7c518",
   "metadata": {},
   "outputs": [],
   "source": [
    "#pretty_print_bb(board.occupied_squares_bb)"
   ]
  },
  {
   "cell_type": "code",
   "execution_count": 6,
   "id": "c6cc7a06",
   "metadata": {},
   "outputs": [],
   "source": [
    "white_pawns = board.white_P_bb\n",
    "white_king = board.white_K_bb"
   ]
  },
  {
   "cell_type": "code",
   "execution_count": 7,
   "id": "2b85aae1",
   "metadata": {},
   "outputs": [
    {
     "name": "stdout",
     "output_type": "stream",
     "text": [
      "8  ░ ░ ░ ░ ░ ░ ░ ░\n",
      "7  ░ ░ ░ ░ ░ ░ ░ ░\n",
      "6  ░ ░ ░ ░ ░ ░ ░ ░\n",
      "5  ░ ░ ░ ░ ░ ░ ░ ░\n",
      "4  ░ ░ ░ ░ ░ ░ ░ ░\n",
      "3  ░ ░ ░ ░ ░ ░ ░ ░\n",
      "2  ▓ ▓ ▓ ▓ ▓ ▓ ▓ ▓\n",
      "1  ░ ░ ░ ░ ░ ░ ░ ░\n",
      "   A B C D E F G H\n"
     ]
    }
   ],
   "source": [
    "pretty_print_bb(white_pawns)"
   ]
  },
  {
   "cell_type": "code",
   "execution_count": 8,
   "id": "4ba6a615",
   "metadata": {},
   "outputs": [
    {
     "name": "stdout",
     "output_type": "stream",
     "text": [
      "8  ░ ░ ░ ░ ░ ░ ░ ░\n",
      "7  ░ ░ ░ ░ ░ ░ ░ ░\n",
      "6  ░ ░ ░ ░ ░ ░ ░ ░\n",
      "5  ░ ░ ░ ░ ░ ░ ░ ░\n",
      "4  ░ ░ ░ ░ ░ ░ ░ ░\n",
      "3  ░ ░ ░ ░ ░ ░ ░ ░\n",
      "2  ░ ░ ░ ░ ░ ░ ░ ░\n",
      "1  ░ ░ ░ ░ ▓ ░ ░ ░\n",
      "   A B C D E F G H\n"
     ]
    }
   ],
   "source": [
    "pretty_print_bb(white_king)"
   ]
  },
  {
   "cell_type": "code",
   "execution_count": 9,
   "id": "fb9800f7",
   "metadata": {},
   "outputs": [
    {
     "name": "stdout",
     "output_type": "stream",
     "text": [
      "8  ▓ ░ ░ ░ ░ ░ ░ ▓\n",
      "7  ░ ░ ░ ░ ░ ░ ░ ░\n",
      "6  ░ ░ ░ ░ ░ ░ ░ ░\n",
      "5  ░ ░ ░ ░ ░ ░ ░ ░\n",
      "4  ░ ░ ░ ░ ░ ░ ░ ░\n",
      "3  ░ ░ ░ ░ ░ ░ ░ ░\n",
      "2  ░ ░ ░ ░ ░ ░ ░ ░\n",
      "1  ░ ░ ░ ░ ░ ░ ░ ░\n",
      "   A B C D E F G H\n"
     ]
    }
   ],
   "source": [
    "pretty_print_bb(board.black_R_bb)"
   ]
  },
  {
   "cell_type": "code",
   "execution_count": 10,
   "id": "159b13ea",
   "metadata": {},
   "outputs": [
    {
     "name": "stdout",
     "output_type": "stream",
     "text": [
      "8  ░ ░ ░ ░ ░ ░ ░ ░\n",
      "7  ░ ░ ░ ░ ░ ░ ░ ░\n",
      "6  ▓ ▓ ▓ ▓ ▓ ▓ ▓ ▓\n",
      "5  ▓ ▓ ▓ ▓ ▓ ▓ ▓ ▓\n",
      "4  ▓ ▓ ▓ ▓ ▓ ▓ ▓ ▓\n",
      "3  ▓ ▓ ▓ ▓ ▓ ▓ ▓ ▓\n",
      "2  ░ ░ ░ ░ ░ ░ ░ ░\n",
      "1  ░ ░ ░ ░ ░ ░ ░ ░\n",
      "   A B C D E F G H\n"
     ]
    }
   ],
   "source": [
    "pretty_print_bb(board.empty_squares_bb)"
   ]
  },
  {
   "cell_type": "code",
   "execution_count": 11,
   "id": "ef39504b",
   "metadata": {},
   "outputs": [
    {
     "name": "stdout",
     "output_type": "stream",
     "text": [
      "8  ▓ ▓ ▓ ▓ ▓ ▓ ▓ ▓\n",
      "7  ▓ ▓ ▓ ▓ ▓ ▓ ▓ ▓\n",
      "6  ░ ░ ░ ░ ░ ░ ░ ░\n",
      "5  ░ ░ ░ ░ ░ ░ ░ ░\n",
      "4  ░ ░ ░ ░ ░ ░ ░ ░\n",
      "3  ░ ░ ░ ░ ░ ░ ░ ░\n",
      "2  ▓ ▓ ▓ ▓ ▓ ▓ ▓ ▓\n",
      "1  ▓ ▓ ▓ ▓ ▓ ▓ ▓ ▓\n",
      "   A B C D E F G H\n"
     ]
    }
   ],
   "source": [
    "pretty_print_bb(board.occupied_squares_bb)"
   ]
  },
  {
   "cell_type": "code",
   "execution_count": 12,
   "id": "435e0b32",
   "metadata": {},
   "outputs": [
    {
     "name": "stdout",
     "output_type": "stream",
     "text": [
      "8  ▓ ▓ ▓ ▓ ░ ░ ░ ░\n",
      "7  ▓ ▓ ▓ ▓ ░ ░ ░ ░\n",
      "6  ▓ ▓ ▓ ▓ ░ ░ ░ ░\n",
      "5  ▓ ▓ ▓ ▓ ░ ░ ░ ░\n",
      "4  ▓ ▓ ▓ ▓ ░ ░ ░ ░\n",
      "3  ▓ ▓ ▓ ▓ ░ ░ ░ ░\n",
      "2  ▓ ▓ ▓ ▓ ░ ░ ░ ░\n",
      "1  ▓ ▓ ▓ ▓ ░ ░ ░ ░\n",
      "   A B C D E F G H\n",
      "8  ░ ░ ░ ░ ▓ ▓ ▓ ▓\n",
      "7  ░ ░ ░ ░ ▓ ▓ ▓ ▓\n",
      "6  ░ ░ ░ ░ ▓ ▓ ▓ ▓\n",
      "5  ░ ░ ░ ░ ▓ ▓ ▓ ▓\n",
      "4  ░ ░ ░ ░ ▓ ▓ ▓ ▓\n",
      "3  ░ ░ ░ ░ ▓ ▓ ▓ ▓\n",
      "2  ░ ░ ░ ░ ▓ ▓ ▓ ▓\n",
      "1  ░ ░ ░ ░ ▓ ▓ ▓ ▓\n",
      "   A B C D E F G H\n",
      "8  ░ ░ ▓ ▓ ▓ ▓ ░ ░\n",
      "7  ░ ░ ▓ ▓ ▓ ▓ ░ ░\n",
      "6  ░ ░ ▓ ▓ ▓ ▓ ░ ░\n",
      "5  ░ ░ ▓ ▓ ▓ ▓ ░ ░\n",
      "4  ░ ░ ▓ ▓ ▓ ▓ ░ ░\n",
      "3  ░ ░ ▓ ▓ ▓ ▓ ░ ░\n",
      "2  ░ ░ ▓ ▓ ▓ ▓ ░ ░\n",
      "1  ░ ░ ▓ ▓ ▓ ▓ ░ ░\n",
      "   A B C D E F G H\n",
      "8  ░ ░ ░ ░ ░ ░ ░ ░\n",
      "7  ░ ░ ░ ░ ░ ░ ░ ░\n",
      "6  ░ ░ ░ ░ ░ ░ ░ ░\n",
      "5  ░ ░ ░ ▓ ▓ ░ ░ ░\n",
      "4  ░ ░ ░ ▓ ▓ ░ ░ ░\n",
      "3  ░ ░ ░ ░ ░ ░ ░ ░\n",
      "2  ░ ░ ░ ░ ░ ░ ░ ░\n",
      "1  ░ ░ ░ ░ ░ ░ ░ ░\n",
      "   A B C D E F G H\n",
      "8  ▓ ░ ░ ░ ░ ░ ░ ▓\n",
      "7  ▓ ░ ░ ░ ░ ░ ░ ▓\n",
      "6  ▓ ░ ░ ░ ░ ░ ░ ▓\n",
      "5  ▓ ░ ░ ░ ░ ░ ░ ▓\n",
      "4  ▓ ░ ░ ░ ░ ░ ░ ▓\n",
      "3  ▓ ░ ░ ░ ░ ░ ░ ▓\n",
      "2  ▓ ░ ░ ░ ░ ░ ░ ▓\n",
      "1  ▓ ░ ░ ░ ░ ░ ░ ▓\n",
      "   A B C D E F G H\n"
     ]
    }
   ],
   "source": [
    "pretty_print_bb(board.queenside_bb)\n",
    "pretty_print_bb(board.kingside_bb)\n",
    "pretty_print_bb(board.center_files_bb)\n",
    "pretty_print_bb(board.center_squares_bb)\n",
    "pretty_print_bb(board.flanks_bb)"
   ]
  },
  {
   "cell_type": "code",
   "execution_count": 13,
   "id": "e17c8c2e",
   "metadata": {},
   "outputs": [
    {
     "name": "stdout",
     "output_type": "stream",
     "text": [
      "8  ▓ ▓ ▓ ▓ ▓ ▓ ▓ ▓\n",
      "7  ▓ ▓ ▓ ▓ ▓ ▓ ▓ ▓\n",
      "6  ░ ░ ░ ░ ░ ░ ░ ░\n",
      "5  ░ ░ ░ ░ ░ ░ ░ ░\n",
      "4  ░ ░ ░ ░ ░ ░ ░ ░\n",
      "3  ░ ░ ░ ░ ░ ░ ░ ░\n",
      "2  ░ ░ ░ ░ ░ ░ ░ ░\n",
      "1  ░ ░ ░ ░ ░ ░ ░ ░\n",
      "   A B C D E F G H\n"
     ]
    }
   ],
   "source": [
    "pretty_print_bb(board.black_pieces_bb)"
   ]
  },
  {
   "cell_type": "code",
   "execution_count": 14,
   "id": "e52befc8",
   "metadata": {},
   "outputs": [
    {
     "name": "stdout",
     "output_type": "stream",
     "text": [
      "8  ░ ░ ░ ░ ░ ░ ░ ░\n",
      "7  ░ ░ ░ ░ ░ ░ ░ ░\n",
      "6  ░ ░ ░ ░ ░ ░ ░ ░\n",
      "5  ░ ░ ░ ░ ░ ░ ░ ░\n",
      "4  ░ ░ ░ ░ ░ ░ ░ ░\n",
      "3  ░ ░ ░ ░ ░ ░ ░ ░\n",
      "2  ░ ░ ░ ░ ░ ░ ░ ░\n",
      "1  ▓ ▓ ▓ ▓ ▓ ▓ ▓ ▓\n",
      "   A B C D E F G H\n",
      "8  ░ ░ ░ ░ ░ ░ ░ ░\n",
      "7  ░ ░ ░ ░ ░ ░ ░ ░\n",
      "6  ░ ░ ░ ░ ░ ░ ░ ░\n",
      "5  ░ ░ ░ ░ ░ ░ ░ ░\n",
      "4  ░ ░ ░ ░ ░ ░ ░ ░\n",
      "3  ░ ░ ▓ ▓ ▓ ▓ ▓ ▓\n",
      "2  ░ ░ ░ ░ ░ ░ ░ ░\n",
      "1  ▓ ▓ ▓ ▓ ▓ ▓ ▓ ▓\n",
      "   A B C D E F G H\n"
     ]
    }
   ],
   "source": [
    "board.plus1(sq.a1)\n",
    "pretty_print_bb(board.attack_bb)\n",
    "board.plus1(sq.c3)\n",
    "pretty_print_bb(board.attack_bb)"
   ]
  },
  {
   "cell_type": "code",
   "execution_count": 15,
   "id": "52a6dc6c",
   "metadata": {},
   "outputs": [
    {
     "name": "stdout",
     "output_type": "stream",
     "text": [
      "8  ░ ░ ░ ▓ ░ ░ ░ ░\n",
      "7  ░ ░ ▓ ░ ░ ░ ░ ░\n",
      "6  ░ ▓ ░ ░ ░ ░ ░ ░\n",
      "5  ▓ ░ ░ ░ ░ ░ ░ ░\n",
      "4  ░ ░ ░ ░ ░ ░ ░ ░\n",
      "3  ░ ░ ░ ░ ░ ░ ░ ░\n",
      "2  ░ ░ ░ ░ ░ ░ ░ ░\n",
      "1  ░ ░ ░ ░ ░ ░ ░ ░\n",
      "   A B C D E F G H\n"
     ]
    },
    {
     "data": {
      "text/plain": [
       "11"
      ]
     },
     "execution_count": 15,
     "metadata": {},
     "output_type": "execute_result"
    }
   ],
   "source": [
    "board.reset_bb()\n",
    "board.minus9(sq.d8)\n",
    "pretty_print_bb(board.attack_bb)\n",
    "sq.d2\n"
   ]
  },
  {
   "cell_type": "code",
   "execution_count": 16,
   "id": "b7595d51",
   "metadata": {},
   "outputs": [
    {
     "name": "stdout",
     "output_type": "stream",
     "text": [
      "8  ▓ ▓ ▓ ▓ ▓ ▓ ▓ ▓\n",
      "7  ▓ ▓ ▓ ▓ ▓ ▓ ▓ ▓\n",
      "6  ░ ░ ░ ░ ░ ░ ░ ░\n",
      "5  ░ ░ ░ ░ ░ ░ ░ ░\n",
      "4  ░ ░ ░ ░ ░ ░ ░ ░\n",
      "3  ░ ░ ░ ░ ░ ░ ░ ░\n",
      "2  ▓ ▓ ▓ ▓ ▓ ▓ ▓ ▓\n",
      "1  ▓ ▓ ▓ ▓ ▓ ▓ ▓ ▓\n",
      "   A B C D E F G H\n"
     ]
    }
   ],
   "source": [
    "pretty_print_bb(board.occupied_squares_bb)"
   ]
  },
  {
   "cell_type": "code",
   "execution_count": 17,
   "id": "ab5371b6",
   "metadata": {},
   "outputs": [
    {
     "name": "stdout",
     "output_type": "stream",
     "text": [
      "8  ░ ░ ░ ░ ░ ░ ▓ ░\n",
      "7  ░ ░ ░ ░ ░ ▓ ░ ░\n",
      "6  ░ ░ ░ ░ ░ ░ ░ ▓\n",
      "5  ░ ░ ░ ░ ░ ▓ ░ ░\n",
      "4  ░ ░ ░ ░ ░ ░ ▓ ░\n",
      "3  ░ ░ ░ ░ ░ ░ ░ ░\n",
      "2  ░ ░ ░ ░ ░ ░ ░ ░\n",
      "1  ░ ░ ░ ░ ░ ░ ░ ░\n",
      "   A B C D E F G H\n",
      "8  ░ ░ ░ ░ ░ ░ ░ ░\n",
      "7  ░ ░ ░ ░ ░ ░ ░ ░\n",
      "6  ░ ░ ░ ░ ░ ░ ░ ░\n",
      "5  ░ ░ ░ ░ ░ ░ ░ ░\n",
      "4  ░ ░ ░ ░ ░ ░ ░ ░\n",
      "3  ░ ░ ░ ░ ░ ░ ▓ ░\n",
      "2  ░ ░ ░ ░ ░ ▓ ░ ░\n",
      "1  ░ ░ ░ ░ ░ ░ ░ ▓\n",
      "   A B C D E F G H\n",
      "8  ░ ░ ░ ░ ░ ░ ░ ░\n",
      "7  ░ ░ ░ ░ ░ ░ ░ ░\n",
      "6  ░ ░ ░ ░ ░ ░ ░ ░\n",
      "5  ░ ░ ░ ░ ░ ░ ░ ░\n",
      "4  ░ ░ ░ ░ ░ ░ ░ ░\n",
      "3  ░ ▓ ░ ░ ░ ░ ░ ░\n",
      "2  ░ ░ ▓ ░ ░ ░ ░ ░\n",
      "1  ▓ ░ ░ ░ ░ ░ ░ ░\n",
      "   A B C D E F G H\n",
      "8  ▓ ░ ░ ░ ░ ░ ░ ░\n",
      "7  ░ ░ ▓ ░ ░ ░ ░ ░\n",
      "6  ░ ▓ ░ ░ ░ ░ ░ ░\n",
      "5  ░ ░ ░ ░ ░ ░ ░ ░\n",
      "4  ░ ░ ░ ░ ░ ░ ░ ░\n",
      "3  ░ ░ ░ ░ ░ ░ ░ ░\n",
      "2  ░ ░ ░ ░ ░ ░ ░ ░\n",
      "1  ░ ░ ░ ░ ░ ░ ░ ░\n",
      "   A B C D E F G H\n",
      "8  ░ ░ ░ ░ ░ ░ ░ ░\n",
      "7  ░ ░ ░ ░ ░ ░ ░ ░\n",
      "6  ░ ░ ░ ░ ░ ░ ░ ░\n",
      "5  ░ ░ ░ ░ ░ ░ ░ ░\n",
      "4  ░ ░ ░ ░ ░ ░ ░ ░\n",
      "3  ░ ░ ▓ ░ ▓ ░ ░ ░\n",
      "2  ░ ▓ ░ ░ ░ ▓ ░ ░\n",
      "1  ░ ░ ░ ▓ ░ ░ ░ ░\n",
      "   A B C D E F G H\n",
      "8  ░ ░ ░ ░ ░ ░ ░ ░\n",
      "7  ░ ░ ░ ░ ░ ░ ░ ░\n",
      "6  ░ ░ ░ ░ ░ ░ ░ ░\n",
      "5  ░ ░ ░ ░ ▓ ░ ▓ ░\n",
      "4  ░ ░ ░ ▓ ░ ░ ░ ▓\n",
      "3  ░ ░ ░ ░ ░ ▓ ░ ░\n",
      "2  ░ ░ ░ ▓ ░ ░ ░ ▓\n",
      "1  ░ ░ ░ ░ ▓ ░ ▓ ░\n",
      "   A B C D E F G H\n",
      "8  ░ ▓ ░ ▓ ░ ░ ░ ░\n",
      "7  ▓ ░ ░ ░ ▓ ░ ░ ░\n",
      "6  ░ ░ ▓ ░ ░ ░ ░ ░\n",
      "5  ▓ ░ ░ ░ ▓ ░ ░ ░\n",
      "4  ░ ▓ ░ ▓ ░ ░ ░ ░\n",
      "3  ░ ░ ░ ░ ░ ░ ░ ░\n",
      "2  ░ ░ ░ ░ ░ ░ ░ ░\n",
      "1  ░ ░ ░ ░ ░ ░ ░ ░\n",
      "   A B C D E F G H\n",
      "8  ░ ░ ▓ ░ ░ ░ ░ ░\n",
      "7  ▓ ░ ░ ░ ░ ░ ░ ░\n",
      "6  ░ ░ ▓ ░ ░ ░ ░ ░\n",
      "5  ░ ▓ ░ ░ ░ ░ ░ ░\n",
      "4  ░ ░ ░ ░ ░ ░ ░ ░\n",
      "3  ░ ░ ░ ░ ░ ░ ░ ░\n",
      "2  ░ ░ ░ ░ ░ ░ ░ ░\n",
      "1  ░ ░ ░ ░ ░ ░ ░ ░\n",
      "   A B C D E F G H\n"
     ]
    }
   ],
   "source": [
    "board.reset_bb()\n",
    "x = board._knight_attacks(sq.h6)\n",
    "pretty_print_bb(x)\n",
    "board.reset_bb()\n",
    "x = board._knight_attacks(sq.h1)\n",
    "pretty_print_bb(x)\n",
    "board.reset_bb()\n",
    "x = board._knight_attacks(sq.a1)\n",
    "pretty_print_bb(x)\n",
    "board.reset_bb()\n",
    "x = board._knight_attacks(sq.a8)\n",
    "pretty_print_bb(x)\n",
    "board.reset_bb()\n",
    "x = board._knight_attacks(sq.d1)\n",
    "pretty_print_bb(x)\n",
    "board.reset_bb()\n",
    "x = board._knight_attacks(sq.f3)\n",
    "pretty_print_bb(x)\n",
    "board.reset_bb()\n",
    "x = board._knight_attacks(sq.c6)\n",
    "pretty_print_bb(x)\n",
    "board.reset_bb()\n",
    "x = board._knight_attacks(sq.a7)\n",
    "pretty_print_bb(x)"
   ]
  },
  {
   "cell_type": "code",
   "execution_count": null,
   "id": "05faa6c9",
   "metadata": {},
   "outputs": [],
   "source": []
  },
  {
   "cell_type": "code",
   "execution_count": null,
   "id": "31f5115f",
   "metadata": {},
   "outputs": [],
   "source": []
  }
 ],
 "metadata": {
  "kernelspec": {
   "display_name": "Python 3 (ipykernel)",
   "language": "python",
   "name": "python3"
  },
  "language_info": {
   "codemirror_mode": {
    "name": "ipython",
    "version": 3
   },
   "file_extension": ".py",
   "mimetype": "text/x-python",
   "name": "python",
   "nbconvert_exporter": "python",
   "pygments_lexer": "ipython3",
   "version": "3.8.6"
  }
 },
 "nbformat": 4,
 "nbformat_minor": 5
}
