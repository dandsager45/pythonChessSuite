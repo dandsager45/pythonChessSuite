{
 "cells": [
  {
   "cell_type": "code",
   "execution_count": 1,
   "id": "54ad0402",
   "metadata": {},
   "outputs": [],
   "source": [
    "import numpy as np\n",
    "from bitboardInfrastructure import Board, pretty_print_bb\n",
    "from constants import SquarePosition as sq\n",
    "from game import Game\n",
    "from position import Position"
   ]
  },
  {
   "cell_type": "code",
   "execution_count": null,
   "id": "0b7a53fb",
   "metadata": {
    "scrolled": true
   },
   "outputs": [],
   "source": [
    "board = Board()\n"
   ]
  },
  {
   "cell_type": "code",
   "execution_count": null,
   "id": "0e870394",
   "metadata": {},
   "outputs": [],
   "source": [
    "state = board.update_occupied_squares_bb()\n"
   ]
  },
  {
   "cell_type": "code",
   "execution_count": null,
   "id": "9ed6d532",
   "metadata": {},
   "outputs": [],
   "source": [
    "board.occupied_squares_bb"
   ]
  },
  {
   "cell_type": "code",
   "execution_count": null,
   "id": "44a7c518",
   "metadata": {},
   "outputs": [],
   "source": [
    "pretty_print_bb(board.occupied_squares_bb)"
   ]
  },
  {
   "cell_type": "code",
   "execution_count": null,
   "id": "c6cc7a06",
   "metadata": {},
   "outputs": [],
   "source": [
    "white_pawns = board.white_P_bb\n",
    "white_king = board.white_K_bb"
   ]
  },
  {
   "cell_type": "code",
   "execution_count": null,
   "id": "2b85aae1",
   "metadata": {},
   "outputs": [],
   "source": [
    "pretty_print_bb(white_pawns)"
   ]
  },
  {
   "cell_type": "code",
   "execution_count": null,
   "id": "4ba6a615",
   "metadata": {},
   "outputs": [],
   "source": [
    "\n",
    "      3 from constants import SquarePosition as sqpretty_print_bb(white_king)"
   ]
  },
  {
   "cell_type": "code",
   "execution_count": null,
   "id": "fb9800f7",
   "metadata": {},
   "outputs": [],
   "source": [
    "pretty_print_bb(board.black_R_bb)"
   ]
  },
  {
   "cell_type": "code",
   "execution_count": null,
   "id": "159b13ea",
   "metadata": {},
   "outputs": [],
   "source": [
    "pretty_print_bb(board.get_empty_squares_bb())"
   ]
  },
  {
   "cell_type": "code",
   "execution_count": null,
   "id": "ef39504b",
   "metadata": {},
   "outputs": [],
   "source": [
    "pretty_print_bb(board.occupied_squares_bb)"
   ]
  },
  {
   "cell_type": "code",
   "execution_count": null,
   "id": "435e0b32",
   "metadata": {},
   "outputs": [],
   "source": [
    "pretty_print_bb(board.queenside_bb)\n",
    "pretty_print_bb(board.kingside_bb)\n",
    "pretty_print_bb(board.center_files_bb)\n",
    "pretty_print_bb(board.center_bb)\n",
    "pretty_print_bb(board.flanks_bb)"
   ]
  },
  {
   "cell_type": "code",
   "execution_count": null,
   "id": "e17c8c2e",
   "metadata": {},
   "outputs": [],
   "source": [
    "pretty_print_bb(board.get_black_pieces_bb())"
   ]
  },
  {
   "cell_type": "code",
   "execution_count": null,
   "id": "e52befc8",
   "metadata": {},
   "outputs": [],
   "source": [
    "board.plus1(sq.a1)\n",
    "pretty_print_bb(board.bb)\n",
    "board.plus1(sq.c3)\n",
    "pretty_print_bb(board.bb)"
   ]
  },
  {
   "cell_type": "code",
   "execution_count": null,
   "id": "52a6dc6c",
   "metadata": {},
   "outputs": [],
   "source": [
    "board.reset_bb()\n",
    "board.minus9(sq.d8)\n",
    "pretty_print_bb(board.bb)\n",
    "sq.d2\n"
   ]
  },
  {
   "cell_type": "code",
   "execution_count": null,
   "id": "b7595d51",
   "metadata": {},
   "outputs": [],
   "source": [
    "pretty_print_bb(board.occupied_squares_bb)"
   ]
  },
  {
   "cell_type": "code",
   "execution_count": null,
   "id": "ab5371b6",
   "metadata": {},
   "outputs": [],
   "source": [
    "board.reset_bb()\n",
    "x = board.knight_attacks(sq.h6)\n",
    "pretty_print_bb(x)\n",
    "board.reset_bb()\n",
    "x = board.knight_attacks(sq.h1)\n",
    "pretty_print_bb(x)\n",
    "board.reset_bb()\n",
    "x = board.knight_attacks(sq.a1)\n",
    "pretty_print_bb(x)\n",
    "board.reset_bb()\n",
    "x = board.knight_attacks(sq.a8)\n",
    "pretty_print_bb(x)\n",
    "board.reset_bb()\n",
    "x = board.knight_attacks(sq.d1)\n",
    "pretty_print_bb(x)\n",
    "board.reset_bb()\n",
    "x = board.knight_attacks(sq.f3)\n",
    "pretty_print_bb(x)\n",
    "board.reset_bb()\n",
    "x = board.knight_attacks(sq.c6)\n",
    "pretty_print_bb(x)\n",
    "board.reset_bb()\n",
    "x = board.knight_attacks(sq.a7)\n",
    "pretty_print_bb(x)"
   ]
  },
  {
   "cell_type": "code",
   "execution_count": 2,
   "id": "7a210fb7",
   "metadata": {},
   "outputs": [
    {
     "ename": "NameError",
     "evalue": "name 'Board' is not defined",
     "output_type": "error",
     "traceback": [
      "\u001b[0;31m---------------------------------------------------------------------------\u001b[0m",
      "\u001b[0;31mNameError\u001b[0m                                 Traceback (most recent call last)",
      "\u001b[0;32m/tmp/ipykernel_7896/3924205249.py\u001b[0m in \u001b[0;36m<module>\u001b[0;34m\u001b[0m\n\u001b[0;32m----> 1\u001b[0;31m \u001b[0mgame\u001b[0m \u001b[0;34m=\u001b[0m \u001b[0mGame\u001b[0m\u001b[0;34m(\u001b[0m\u001b[0;34m)\u001b[0m\u001b[0;34m\u001b[0m\u001b[0;34m\u001b[0m\u001b[0m\n\u001b[0m",
      "\u001b[0;32m~/dev/pythonChessSuite/bitBoards/game.py\u001b[0m in \u001b[0;36m__init__\u001b[0;34m(self)\u001b[0m\n\u001b[1;32m      5\u001b[0m     \u001b[0;32mdef\u001b[0m \u001b[0m__init__\u001b[0m\u001b[0;34m(\u001b[0m\u001b[0mself\u001b[0m\u001b[0;34m)\u001b[0m\u001b[0;34m:\u001b[0m\u001b[0;34m\u001b[0m\u001b[0;34m\u001b[0m\u001b[0m\n\u001b[1;32m      6\u001b[0m         \u001b[0mself\u001b[0m\u001b[0;34m.\u001b[0m\u001b[0mhistory\u001b[0m \u001b[0;34m=\u001b[0m \u001b[0;34m[\u001b[0m\u001b[0;34m]\u001b[0m\u001b[0;34m\u001b[0m\u001b[0;34m\u001b[0m\u001b[0m\n\u001b[0;32m----> 7\u001b[0;31m         \u001b[0minitial_position\u001b[0m \u001b[0;34m=\u001b[0m \u001b[0mPosition\u001b[0m\u001b[0;34m(\u001b[0m\u001b[0;34m)\u001b[0m\u001b[0;34m\u001b[0m\u001b[0;34m\u001b[0m\u001b[0m\n\u001b[0m\u001b[1;32m      8\u001b[0m         \u001b[0mself\u001b[0m\u001b[0;34m.\u001b[0m\u001b[0mhistory\u001b[0m\u001b[0;34m.\u001b[0m\u001b[0mpoush\u001b[0m\u001b[0;34m(\u001b[0m\u001b[0minitial_position\u001b[0m\u001b[0;34m)\u001b[0m\u001b[0;34m\u001b[0m\u001b[0;34m\u001b[0m\u001b[0m\n\u001b[1;32m      9\u001b[0m         \u001b[0mself\u001b[0m\u001b[0;34m.\u001b[0m\u001b[0mhalf_move_number\u001b[0m \u001b[0;34m=\u001b[0m \u001b[0;36m0\u001b[0m\u001b[0;34m\u001b[0m\u001b[0;34m\u001b[0m\u001b[0m\n",
      "\u001b[0;32m~/dev/pythonChessSuite/bitBoards/position.py\u001b[0m in \u001b[0;36m__init__\u001b[0;34m(self)\u001b[0m\n\u001b[1;32m      5\u001b[0m     \u001b[0;34m\"\"\"Represent the itnernal state of a chess position\"\"\"\u001b[0m\u001b[0;34m\u001b[0m\u001b[0;34m\u001b[0m\u001b[0m\n\u001b[1;32m      6\u001b[0m     \u001b[0;32mdef\u001b[0m \u001b[0m__init__\u001b[0m\u001b[0;34m(\u001b[0m\u001b[0mself\u001b[0m\u001b[0;34m)\u001b[0m\u001b[0;34m:\u001b[0m\u001b[0;34m\u001b[0m\u001b[0;34m\u001b[0m\u001b[0m\n\u001b[0;32m----> 7\u001b[0;31m         \u001b[0mself\u001b[0m\u001b[0;34m.\u001b[0m\u001b[0mboard\u001b[0m \u001b[0;34m=\u001b[0m \u001b[0mBoard\u001b[0m\u001b[0;34m.\u001b[0m\u001b[0mget_piece_positions\u001b[0m\u001b[0;34m(\u001b[0m\u001b[0;34m)\u001b[0m\u001b[0;34m\u001b[0m\u001b[0;34m\u001b[0m\u001b[0m\n\u001b[0m\u001b[1;32m      8\u001b[0m         \u001b[0mself\u001b[0m\u001b[0;34m.\u001b[0m\u001b[0mto_move\u001b[0m \u001b[0;34m=\u001b[0m \u001b[0mColor\u001b[0m\u001b[0;34m.\u001b[0m\u001b[0mWHITE\u001b[0m\u001b[0;34m\u001b[0m\u001b[0;34m\u001b[0m\u001b[0m\n\u001b[1;32m      9\u001b[0m         \u001b[0mself\u001b[0m\u001b[0;34m.\u001b[0m\u001b[0mcastle_right\u001b[0m \u001b[0;34m=\u001b[0m \u001b[0;34m{\u001b[0m \u001b[0mColor\u001b[0m\u001b[0;34m.\u001b[0m\u001b[0mWHITE\u001b[0m\u001b[0;34m:\u001b[0m \u001b[0;32mTrue\u001b[0m\u001b[0;34m,\u001b[0m \u001b[0mColor\u001b[0m\u001b[0;34m.\u001b[0m\u001b[0mBLACK\u001b[0m\u001b[0;34m:\u001b[0m \u001b[0;32mTrue\u001b[0m \u001b[0;34m}\u001b[0m\u001b[0;34m\u001b[0m\u001b[0;34m\u001b[0m\u001b[0m\n",
      "\u001b[0;31mNameError\u001b[0m: name 'Board' is not defined"
     ]
    }
   ],
   "source": [
    "game = Game()"
   ]
  },
  {
   "cell_type": "code",
   "execution_count": null,
   "id": "a3dc1880",
   "metadata": {},
   "outputs": [],
   "source": []
  }
 ],
 "metadata": {
  "kernelspec": {
   "display_name": "Python 3 (ipykernel)",
   "language": "python",
   "name": "python3"
  },
  "language_info": {
   "codemirror_mode": {
    "name": "ipython",
    "version": 3
   },
   "file_extension": ".py",
   "mimetype": "text/x-python",
   "name": "python",
   "nbconvert_exporter": "python",
   "pygments_lexer": "ipython3",
   "version": "3.8.6"
  }
 },
 "nbformat": 4,
 "nbformat_minor": 5
}
