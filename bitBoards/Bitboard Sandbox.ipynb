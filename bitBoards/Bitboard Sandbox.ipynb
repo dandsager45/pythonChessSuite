{
 "cells": [
  {
   "cell_type": "code",
   "execution_count": 1,
   "id": "54ad0402",
   "metadata": {},
   "outputs": [],
   "source": [
    "import numpy as np\n",
    "from bitboardInfrastructure import Board, pretty_print_bb\n",
    "from constants import SquarePosition as sq"
   ]
  },
  {
   "cell_type": "code",
   "execution_count": 2,
   "id": "0b7a53fb",
   "metadata": {
    "scrolled": true
   },
   "outputs": [],
   "source": [
    "board = Board()\n"
   ]
  },
  {
   "cell_type": "code",
   "execution_count": 3,
   "id": "0e870394",
   "metadata": {},
   "outputs": [],
   "source": [
    "state = board.update_occupied_squares_bb()\n"
   ]
  },
  {
   "cell_type": "code",
   "execution_count": 4,
   "id": "20ddf2b5",
   "metadata": {},
   "outputs": [
    {
     "data": {
      "text/plain": [
       "array([1, 1, 1, 1, 1, 1, 1, 1, 1, 1, 1, 1, 1, 1, 1, 1, 0, 0, 0, 0, 0, 0,\n",
       "       0, 0, 0, 0, 0, 0, 0, 0, 0, 0, 0, 0, 0, 0, 0, 0, 0, 0, 0, 0, 0, 0,\n",
       "       0, 0, 0, 0, 1, 1, 1, 1, 1, 1, 1, 1, 1, 1, 1, 1, 1, 1, 1, 1],\n",
       "      dtype=int8)"
      ]
     },
     "execution_count": 4,
     "metadata": {},
     "output_type": "execute_result"
    }
   ],
   "source": [
    "board.occupied_squares_bb"
   ]
  },
  {
   "cell_type": "code",
   "execution_count": 5,
   "id": "879f372e",
   "metadata": {},
   "outputs": [
    {
     "name": "stdout",
     "output_type": "stream",
     "text": [
      "8  ▓ ▓ ▓ ▓ ▓ ▓ ▓ ▓\n",
      "7  ▓ ▓ ▓ ▓ ▓ ▓ ▓ ▓\n",
      "6  ░ ░ ░ ░ ░ ░ ░ ░\n",
      "5  ░ ░ ░ ░ ░ ░ ░ ░\n",
      "4  ░ ░ ░ ░ ░ ░ ░ ░\n",
      "3  ░ ░ ░ ░ ░ ░ ░ ░\n",
      "2  ▓ ▓ ▓ ▓ ▓ ▓ ▓ ▓\n",
      "1  ▓ ▓ ▓ ▓ ▓ ▓ ▓ ▓\n",
      "   A B C D E F G H\n"
     ]
    }
   ],
   "source": [
    "pretty_print_bb(board.occupied_squares_bb)"
   ]
  },
  {
   "cell_type": "code",
   "execution_count": 6,
   "id": "fa123a36",
   "metadata": {},
   "outputs": [],
   "source": [
    "white_pawns = board.white_P_bb\n",
    "white_king = board.white_K_bb"
   ]
  },
  {
   "cell_type": "code",
   "execution_count": 7,
   "id": "32b0f792",
   "metadata": {},
   "outputs": [
    {
     "name": "stdout",
     "output_type": "stream",
     "text": [
      "8  ░ ░ ░ ░ ░ ░ ░ ░\n",
      "7  ░ ░ ░ ░ ░ ░ ░ ░\n",
      "6  ░ ░ ░ ░ ░ ░ ░ ░\n",
      "5  ░ ░ ░ ░ ░ ░ ░ ░\n",
      "4  ░ ░ ░ ░ ░ ░ ░ ░\n",
      "3  ░ ░ ░ ░ ░ ░ ░ ░\n",
      "2  ▓ ▓ ▓ ▓ ▓ ▓ ▓ ▓\n",
      "1  ░ ░ ░ ░ ░ ░ ░ ░\n",
      "   A B C D E F G H\n"
     ]
    }
   ],
   "source": [
    "pretty_print_bb(white_pawns)"
   ]
  },
  {
   "cell_type": "code",
   "execution_count": 8,
   "id": "c18ea0b5",
   "metadata": {},
   "outputs": [
    {
     "name": "stdout",
     "output_type": "stream",
     "text": [
      "8  ░ ░ ░ ░ ░ ░ ░ ░\n",
      "7  ░ ░ ░ ░ ░ ░ ░ ░\n",
      "6  ░ ░ ░ ░ ░ ░ ░ ░\n",
      "5  ░ ░ ░ ░ ░ ░ ░ ░\n",
      "4  ░ ░ ░ ░ ░ ░ ░ ░\n",
      "3  ░ ░ ░ ░ ░ ░ ░ ░\n",
      "2  ░ ░ ░ ░ ░ ░ ░ ░\n",
      "1  ░ ░ ░ ░ ▓ ░ ░ ░\n",
      "   A B C D E F G H\n"
     ]
    }
   ],
   "source": [
    "pretty_print_bb(white_king)"
   ]
  },
  {
   "cell_type": "code",
   "execution_count": 9,
   "id": "da012542",
   "metadata": {},
   "outputs": [
    {
     "name": "stdout",
     "output_type": "stream",
     "text": [
      "8  ▓ ░ ░ ░ ░ ░ ░ ▓\n",
      "7  ░ ░ ░ ░ ░ ░ ░ ░\n",
      "6  ░ ░ ░ ░ ░ ░ ░ ░\n",
      "5  ░ ░ ░ ░ ░ ░ ░ ░\n",
      "4  ░ ░ ░ ░ ░ ░ ░ ░\n",
      "3  ░ ░ ░ ░ ░ ░ ░ ░\n",
      "2  ░ ░ ░ ░ ░ ░ ░ ░\n",
      "1  ░ ░ ░ ░ ░ ░ ░ ░\n",
      "   A B C D E F G H\n"
     ]
    }
   ],
   "source": [
    "pretty_print_bb(board.black_R_bb)"
   ]
  },
  {
   "cell_type": "code",
   "execution_count": 10,
   "id": "4667d233",
   "metadata": {},
   "outputs": [
    {
     "name": "stdout",
     "output_type": "stream",
     "text": [
      "8  ░ ░ ░ ░ ░ ░ ░ ░\n",
      "7  ░ ░ ░ ░ ░ ░ ░ ░\n",
      "6  ▓ ▓ ▓ ▓ ▓ ▓ ▓ ▓\n",
      "5  ▓ ▓ ▓ ▓ ▓ ▓ ▓ ▓\n",
      "4  ▓ ▓ ▓ ▓ ▓ ▓ ▓ ▓\n",
      "3  ▓ ▓ ▓ ▓ ▓ ▓ ▓ ▓\n",
      "2  ░ ░ ░ ░ ░ ░ ░ ░\n",
      "1  ░ ░ ░ ░ ░ ░ ░ ░\n",
      "   A B C D E F G H\n"
     ]
    }
   ],
   "source": [
    "pretty_print_bb(board.get_empty_squares_bb())"
   ]
  },
  {
   "cell_type": "code",
   "execution_count": 11,
   "id": "ef6f1389",
   "metadata": {},
   "outputs": [
    {
     "name": "stdout",
     "output_type": "stream",
     "text": [
      "8  ▓ ▓ ▓ ▓ ▓ ▓ ▓ ▓\n",
      "7  ▓ ▓ ▓ ▓ ▓ ▓ ▓ ▓\n",
      "6  ░ ░ ░ ░ ░ ░ ░ ░\n",
      "5  ░ ░ ░ ░ ░ ░ ░ ░\n",
      "4  ░ ░ ░ ░ ░ ░ ░ ░\n",
      "3  ░ ░ ░ ░ ░ ░ ░ ░\n",
      "2  ▓ ▓ ▓ ▓ ▓ ▓ ▓ ▓\n",
      "1  ▓ ▓ ▓ ▓ ▓ ▓ ▓ ▓\n",
      "   A B C D E F G H\n"
     ]
    }
   ],
   "source": [
    "pretty_print_bb(board.occupied_squares_bb)"
   ]
  },
  {
   "cell_type": "code",
   "execution_count": 12,
   "id": "b6679895",
   "metadata": {},
   "outputs": [
    {
     "name": "stdout",
     "output_type": "stream",
     "text": [
      "8  ▓ ▓ ▓ ▓ ░ ░ ░ ░\n",
      "7  ▓ ▓ ▓ ▓ ░ ░ ░ ░\n",
      "6  ▓ ▓ ▓ ▓ ░ ░ ░ ░\n",
      "5  ▓ ▓ ▓ ▓ ░ ░ ░ ░\n",
      "4  ▓ ▓ ▓ ▓ ░ ░ ░ ░\n",
      "3  ▓ ▓ ▓ ▓ ░ ░ ░ ░\n",
      "2  ▓ ▓ ▓ ▓ ░ ░ ░ ░\n",
      "1  ▓ ▓ ▓ ▓ ░ ░ ░ ░\n",
      "   A B C D E F G H\n",
      "8  ░ ░ ░ ░ ▓ ▓ ▓ ▓\n",
      "7  ░ ░ ░ ░ ▓ ▓ ▓ ▓\n",
      "6  ░ ░ ░ ░ ▓ ▓ ▓ ▓\n",
      "5  ░ ░ ░ ░ ▓ ▓ ▓ ▓\n",
      "4  ░ ░ ░ ░ ▓ ▓ ▓ ▓\n",
      "3  ░ ░ ░ ░ ▓ ▓ ▓ ▓\n",
      "2  ░ ░ ░ ░ ▓ ▓ ▓ ▓\n",
      "1  ░ ░ ░ ░ ▓ ▓ ▓ ▓\n",
      "   A B C D E F G H\n",
      "8  ░ ░ ▓ ▓ ▓ ▓ ░ ░\n",
      "7  ░ ░ ▓ ▓ ▓ ▓ ░ ░\n",
      "6  ░ ░ ▓ ▓ ▓ ▓ ░ ░\n",
      "5  ░ ░ ▓ ▓ ▓ ▓ ░ ░\n",
      "4  ░ ░ ▓ ▓ ▓ ▓ ░ ░\n",
      "3  ░ ░ ▓ ▓ ▓ ▓ ░ ░\n",
      "2  ░ ░ ▓ ▓ ▓ ▓ ░ ░\n",
      "1  ░ ░ ▓ ▓ ▓ ▓ ░ ░\n",
      "   A B C D E F G H\n",
      "8  ░ ░ ░ ░ ░ ░ ░ ░\n",
      "7  ░ ░ ░ ░ ░ ░ ░ ░\n",
      "6  ░ ░ ░ ░ ░ ░ ░ ░\n",
      "5  ░ ░ ░ ▓ ▓ ░ ░ ░\n",
      "4  ░ ░ ░ ▓ ▓ ░ ░ ░\n",
      "3  ░ ░ ░ ░ ░ ░ ░ ░\n",
      "2  ░ ░ ░ ░ ░ ░ ░ ░\n",
      "1  ░ ░ ░ ░ ░ ░ ░ ░\n",
      "   A B C D E F G H\n",
      "8  ▓ ░ ░ ░ ░ ░ ░ ▓\n",
      "7  ▓ ░ ░ ░ ░ ░ ░ ▓\n",
      "6  ▓ ░ ░ ░ ░ ░ ░ ▓\n",
      "5  ▓ ░ ░ ░ ░ ░ ░ ▓\n",
      "4  ▓ ░ ░ ░ ░ ░ ░ ▓\n",
      "3  ▓ ░ ░ ░ ░ ░ ░ ▓\n",
      "2  ▓ ░ ░ ░ ░ ░ ░ ▓\n",
      "1  ▓ ░ ░ ░ ░ ░ ░ ▓\n",
      "   A B C D E F G H\n"
     ]
    }
   ],
   "source": [
    "pretty_print_bb(board.queenside_bb)\n",
    "pretty_print_bb(board.kingside_bb)\n",
    "pretty_print_bb(board.center_files_bb)\n",
    "pretty_print_bb(board.center_bb)\n",
    "pretty_print_bb(board.flanks_bb)"
   ]
  },
  {
   "cell_type": "code",
   "execution_count": 15,
   "id": "b25b6b8a",
   "metadata": {},
   "outputs": [
    {
     "name": "stdout",
     "output_type": "stream",
     "text": [
      "8  ▓ ▓ ▓ ▓ ▓ ▓ ▓ ▓\n",
      "7  ▓ ▓ ▓ ▓ ▓ ▓ ▓ ▓\n",
      "6  ░ ░ ░ ░ ░ ░ ░ ░\n",
      "5  ░ ░ ░ ░ ░ ░ ░ ░\n",
      "4  ░ ░ ░ ░ ░ ░ ░ ░\n",
      "3  ░ ░ ░ ░ ░ ░ ░ ░\n",
      "2  ░ ░ ░ ░ ░ ░ ░ ░\n",
      "1  ░ ░ ░ ░ ░ ░ ░ ░\n",
      "   A B C D E F G H\n"
     ]
    }
   ],
   "source": [
    "pretty_print_bb(board.get_black_pieces_bb())"
   ]
  }
 ],
 "metadata": {
  "kernelspec": {
   "display_name": "Python 3 (ipykernel)",
   "language": "python",
   "name": "python3"
  },
  "language_info": {
   "codemirror_mode": {
    "name": "ipython",
    "version": 3
   },
   "file_extension": ".py",
   "mimetype": "text/x-python",
   "name": "python",
   "nbconvert_exporter": "python",
   "pygments_lexer": "ipython3",
   "version": "3.8.6"
  }
 },
 "nbformat": 4,
 "nbformat_minor": 5
}
