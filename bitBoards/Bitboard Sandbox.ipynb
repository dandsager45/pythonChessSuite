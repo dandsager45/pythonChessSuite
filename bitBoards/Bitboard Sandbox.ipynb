{
 "cells": [
  {
   "cell_type": "code",
   "execution_count": null,
   "id": "54ad0402",
   "metadata": {},
   "outputs": [],
   "source": [
    "from bitboardInfrastructure import Board"
   ]
  },
  {
   "cell_type": "code",
   "execution_count": null,
   "id": "0b7a53fb",
   "metadata": {
    "scrolled": true
   },
   "outputs": [],
   "source": [
    "board = Board()\n"
   ]
  },
  {
   "cell_type": "code",
   "execution_count": null,
   "id": "0e870394",
   "metadata": {},
   "outputs": [],
   "source": [
    "state = board.update_occupied_squares_bitboard()\n"
   ]
  },
  {
   "cell_type": "code",
   "execution_count": null,
   "id": "92599de5",
   "metadata": {},
   "outputs": [],
   "source": [
    "board.occupied_squares_bitboard\n"
   ]
  },
  {
   "cell_type": "code",
   "execution_count": null,
   "id": "5fb01d97",
   "metadata": {},
   "outputs": [],
   "source": [
    "board.pretty_print_bitboard(board.occupied_squares_bitboard)"
   ]
  },
  {
   "cell_type": "code",
   "execution_count": null,
   "id": "cad28a19",
   "metadata": {},
   "outputs": [],
   "source": [
    "board.pretty_print_bitboard(board.get_empty_squares_bitboard())"
   ]
  }
 ],
 "metadata": {
  "kernelspec": {
   "display_name": "Python 3 (ipykernel)",
   "language": "python",
   "name": "python3"
  },
  "language_info": {
   "codemirror_mode": {
    "name": "ipython",
    "version": 3
   },
   "file_extension": ".py",
   "mimetype": "text/x-python",
   "name": "python",
   "nbconvert_exporter": "python",
   "pygments_lexer": "ipython3",
   "version": "3.8.6"
  }
 },
 "nbformat": 4,
 "nbformat_minor": 5
}
