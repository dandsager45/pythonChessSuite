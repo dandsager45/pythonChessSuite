{
 "cells": [
  {
   "cell_type": "code",
   "execution_count": 1,
   "id": "daa61aff",
   "metadata": {},
   "outputs": [],
   "source": [
    "from game import Game\n",
    "from position import Position\n",
    "from bitboardInfrastructure import Board\n",
    "from bitboardInfrastructure import pretty_print_bb as pprint"
   ]
  },
  {
   "cell_type": "code",
   "execution_count": 2,
   "id": "de02cd11",
   "metadata": {},
   "outputs": [],
   "source": [
    "game = Game()"
   ]
  },
  {
   "cell_type": "code",
   "execution_count": 3,
   "id": "a411fb4d",
   "metadata": {},
   "outputs": [
    {
     "data": {
      "text/plain": [
       "{'board': <bitboardInfrastructure.Board at 0x7fdac8062b20>,\n",
       " 'to_move': 0,\n",
       " 'castle_rights': {0: True, 1: True},\n",
       " 'en_passant_target': None,\n",
       " 'halfmove_clock': 0,\n",
       " 'piece_map': {1: {8, 9, 10, 11, 12, 13, 14, 15},\n",
       "  2: {0, 7},\n",
       "  3: {1, 6},\n",
       "  4: {2, 5},\n",
       "  5: {3},\n",
       "  6: {4},\n",
       "  7: {48, 49, 50, 51, 52, 53, 54, 55},\n",
       "  8: {56, 63},\n",
       "  9: {57, 62},\n",
       "  10: {58, 61},\n",
       "  11: {59},\n",
       "  12: {60}}}"
      ]
     },
     "execution_count": 3,
     "metadata": {},
     "output_type": "execute_result"
    }
   ],
   "source": [
    "game.get_current_position().__dict__"
   ]
  },
  {
   "cell_type": "code",
   "execution_count": 4,
   "id": "2b3a05e1",
   "metadata": {},
   "outputs": [
    {
     "data": {
      "text/plain": [
       "<bitboardInfrastructure.Board at 0x7fdac8062b20>"
      ]
     },
     "execution_count": 4,
     "metadata": {},
     "output_type": "execute_result"
    }
   ],
   "source": [
    "position = game.get_current_position()\n",
    "position.board"
   ]
  },
  {
   "cell_type": "code",
   "execution_count": 5,
   "id": "63e3eea7",
   "metadata": {},
   "outputs": [],
   "source": [
    "black_pieces = position.board.black_pieces_bb"
   ]
  },
  {
   "cell_type": "code",
   "execution_count": 6,
   "id": "592243ea",
   "metadata": {},
   "outputs": [],
   "source": [
    "white_pieces = position.board.white_pieces_bb"
   ]
  },
  {
   "cell_type": "code",
   "execution_count": 7,
   "id": "4cde55b0",
   "metadata": {},
   "outputs": [],
   "source": [
    "white_pieces = position.board.white_pieces_bb"
   ]
  },
  {
   "cell_type": "code",
   "execution_count": null,
   "id": "0db81939",
   "metadata": {},
   "outputs": [],
   "source": []
  },
  {
   "cell_type": "code",
   "execution_count": 8,
   "id": "2f15fd56",
   "metadata": {},
   "outputs": [
    {
     "name": "stdout",
     "output_type": "stream",
     "text": [
      "8  ░ ░ ░ ░ ░ ░ ░ ░\n",
      "7  ░ ░ ░ ░ ░ ░ ░ ░\n",
      "6  ░ ░ ░ ░ ░ ░ ░ ░\n",
      "5  ░ ░ ░ ░ ░ ░ ░ ░\n",
      "4  ░ ░ ░ ░ ░ ░ ░ ░\n",
      "3  ░ ░ ░ ░ ░ ░ ░ ░\n",
      "2  ▓ ▓ ▓ ▓ ▓ ▓ ▓ ▓\n",
      "1  ▓ ▓ ▓ ▓ ▓ ▓ ▓ ▓\n",
      "   A B C D E F G H\n"
     ]
    }
   ],
   "source": [
    "pprint(white_pieces)"
   ]
  },
  {
   "cell_type": "code",
   "execution_count": 9,
   "id": "2129cf88",
   "metadata": {},
   "outputs": [
    {
     "name": "stdout",
     "output_type": "stream",
     "text": [
      "8  ▓ ▓ ▓ ▓ ▓ ▓ ▓ ▓\n",
      "7  ▓ ▓ ▓ ▓ ▓ ▓ ▓ ▓\n",
      "6  ░ ░ ░ ░ ░ ░ ░ ░\n",
      "5  ░ ░ ░ ░ ░ ░ ░ ░\n",
      "4  ░ ░ ░ ░ ░ ░ ░ ░\n",
      "3  ░ ░ ░ ░ ░ ░ ░ ░\n",
      "2  ░ ░ ░ ░ ░ ░ ░ ░\n",
      "1  ░ ░ ░ ░ ░ ░ ░ ░\n",
      "   A B C D E F G H\n"
     ]
    }
   ],
   "source": [
    "pprint(black_pieces)"
   ]
  },
  {
   "cell_type": "code",
   "execution_count": 10,
   "id": "72bc7c80",
   "metadata": {},
   "outputs": [
    {
     "name": "stdout",
     "output_type": "stream",
     "text": [
      "8  ▓ ▓ ▓ ▓ ▓ ▓ ▓ ▓\n",
      "7  ▓ ▓ ▓ ▓ ▓ ▓ ▓ ▓\n",
      "6  ░ ░ ░ ░ ░ ░ ░ ░\n",
      "5  ░ ░ ░ ░ ░ ░ ░ ░\n",
      "4  ░ ░ ░ ░ ░ ░ ░ ░\n",
      "3  ░ ░ ░ ░ ░ ░ ░ ░\n",
      "2  ▓ ▓ ▓ ▓ ▓ ▓ ▓ ▓\n",
      "1  ▓ ▓ ▓ ▓ ▓ ▓ ▓ ▓\n",
      "   A B C D E F G H\n"
     ]
    }
   ],
   "source": [
    "pprint(white_pieces | black_pieces)"
   ]
  },
  {
   "cell_type": "code",
   "execution_count": 11,
   "id": "7b0e91ba",
   "metadata": {},
   "outputs": [],
   "source": [
    "from constants import Piece, SquarePosition as sq\n",
    "from move import Move"
   ]
  },
  {
   "cell_type": "code",
   "execution_count": 12,
   "id": "cd5c3d0b",
   "metadata": {},
   "outputs": [
    {
     "data": {
      "text/plain": [
       "<bitboardInfrastructure.Board at 0x7fdac8062b20>"
      ]
     },
     "execution_count": 12,
     "metadata": {},
     "output_type": "execute_result"
    }
   ],
   "source": [
    "position = game.get_current_position()\n",
    "position.board"
   ]
  },
  {
   "cell_type": "code",
   "execution_count": 13,
   "id": "8bea7e63",
   "metadata": {},
   "outputs": [
    {
     "data": {
      "text/plain": [
       "'-- TODO: generate FEN --'"
      ]
     },
     "execution_count": 13,
     "metadata": {},
     "output_type": "execute_result"
    }
   ],
   "source": [
    "move = Move(Piece.wP, (sq.e2, sq.e4), False, False)\n",
    "\n",
    "position.make_move(move)"
   ]
  },
  {
   "cell_type": "code",
   "execution_count": 14,
   "id": "81010d0a",
   "metadata": {},
   "outputs": [
    {
     "data": {
      "text/plain": [
       "array([1, 1, 1, 1, 1, 1, 1, 1, 1, 1, 1, 1, 0, 1, 1, 1, 0, 0, 0, 0, 0, 0,\n",
       "       0, 0, 0, 0, 0, 0, 1, 0, 0, 0, 0, 0, 0, 0, 0, 0, 0, 0, 0, 0, 0, 0,\n",
       "       0, 0, 0, 0, 0, 0, 0, 0, 0, 0, 0, 0, 0, 0, 0, 0, 0, 0, 0, 0],\n",
       "      dtype=int8)"
      ]
     },
     "execution_count": 14,
     "metadata": {},
     "output_type": "execute_result"
    }
   ],
   "source": [
    "position.board.white_pieces_bb"
   ]
  },
  {
   "cell_type": "code",
   "execution_count": 15,
   "id": "b250445a",
   "metadata": {},
   "outputs": [
    {
     "name": "stdout",
     "output_type": "stream",
     "text": [
      "8  ▓ ▓ ▓ ▓ ▓ ▓ ▓ ▓\n",
      "7  ▓ ▓ ▓ ▓ ▓ ▓ ▓ ▓\n",
      "6  ░ ░ ░ ░ ░ ░ ░ ░\n",
      "5  ░ ░ ░ ░ ░ ░ ░ ░\n",
      "4  ░ ░ ░ ░ ░ ░ ░ ░\n",
      "3  ░ ░ ░ ░ ░ ░ ░ ░\n",
      "2  ░ ░ ░ ░ ░ ░ ░ ░\n",
      "1  ░ ░ ░ ░ ░ ░ ░ ░\n",
      "   A B C D E F G H\n"
     ]
    }
   ],
   "source": [
    "pprint(position.board.black_pieces_bb)"
   ]
  },
  {
   "cell_type": "code",
   "execution_count": 16,
   "id": "4e6c730a",
   "metadata": {},
   "outputs": [
    {
     "name": "stdout",
     "output_type": "stream",
     "text": [
      "8  ▓ ▓ ▓ ▓ ▓ ▓ ▓ ▓\n",
      "7  ▓ ▓ ▓ ▓ ▓ ▓ ▓ ▓\n",
      "6  ░ ░ ░ ░ ░ ░ ░ ░\n",
      "5  ░ ░ ░ ░ ░ ░ ░ ░\n",
      "4  ░ ░ ░ ░ ▓ ░ ░ ░\n",
      "3  ░ ░ ░ ░ ░ ░ ░ ░\n",
      "2  ▓ ▓ ▓ ▓ ░ ▓ ▓ ▓\n",
      "1  ▓ ▓ ▓ ▓ ▓ ▓ ▓ ▓\n",
      "   A B C D E F G H\n"
     ]
    }
   ],
   "source": [
    "pprint(position.board.occupied_squares_bb)"
   ]
  },
  {
   "cell_type": "code",
   "execution_count": 17,
   "id": "3cb3a8ce",
   "metadata": {},
   "outputs": [
    {
     "data": {
      "text/plain": [
       "'-- TODO: generate FEN --'"
      ]
     },
     "execution_count": 17,
     "metadata": {},
     "output_type": "execute_result"
    }
   ],
   "source": [
    "move = Move( Piece.bP, (sq.e7, sq.e5), False, False)\n",
    "position.make_move(move)"
   ]
  },
  {
   "cell_type": "code",
   "execution_count": 18,
   "id": "10a890dc",
   "metadata": {},
   "outputs": [
    {
     "name": "stdout",
     "output_type": "stream",
     "text": [
      "8  ▓ ▓ ▓ ▓ ▓ ▓ ▓ ▓\n",
      "7  ▓ ▓ ▓ ▓ ░ ▓ ▓ ▓\n",
      "6  ░ ░ ░ ░ ░ ░ ░ ░\n",
      "5  ░ ░ ░ ░ ▓ ░ ░ ░\n",
      "4  ░ ░ ░ ░ ▓ ░ ░ ░\n",
      "3  ░ ░ ░ ░ ░ ░ ░ ░\n",
      "2  ▓ ▓ ▓ ▓ ░ ▓ ▓ ▓\n",
      "1  ▓ ▓ ▓ ▓ ▓ ▓ ▓ ▓\n",
      "   A B C D E F G H\n"
     ]
    }
   ],
   "source": [
    "pprint(position.board.occupied_squares_bb)"
   ]
  },
  {
   "cell_type": "code",
   "execution_count": 19,
   "id": "b6923e10",
   "metadata": {},
   "outputs": [
    {
     "name": "stdout",
     "output_type": "stream",
     "text": [
      "8  ▓ ▓ ▓ ▓ ▓ ▓ ▓ ▓\n",
      "7  ▓ ▓ ▓ ▓ ░ ▓ ▓ ▓\n",
      "6  ░ ░ ░ ░ ░ ░ ░ ░\n",
      "5  ░ ░ ░ ░ ▓ ░ ░ ░\n",
      "4  ░ ░ ░ ░ ▓ ░ ░ ░\n",
      "3  ░ ░ ░ ░ ░ ▓ ░ ░\n",
      "2  ▓ ▓ ▓ ▓ ░ ▓ ▓ ▓\n",
      "1  ▓ ▓ ▓ ▓ ▓ ▓ ░ ▓\n",
      "   A B C D E F G H\n"
     ]
    }
   ],
   "source": [
    "move = Move(Piece.wN, (sq.g1, sq.f3), False, False)\n",
    "position.make_move(move)\n",
    "pprint(position.board.occupied_squares_bb)"
   ]
  },
  {
   "cell_type": "code",
   "execution_count": 20,
   "id": "d8e8e34f",
   "metadata": {},
   "outputs": [
    {
     "name": "stdout",
     "output_type": "stream",
     "text": [
      "8  ▓ ░ ▓ ▓ ▓ ▓ ▓ ▓\n",
      "7  ▓ ▓ ▓ ▓ ░ ▓ ▓ ▓\n",
      "6  ░ ░ ▓ ░ ░ ░ ░ ░\n",
      "5  ░ ░ ░ ░ ▓ ░ ░ ░\n",
      "4  ░ ░ ░ ░ ▓ ░ ░ ░\n",
      "3  ░ ░ ░ ░ ░ ▓ ░ ░\n",
      "2  ▓ ▓ ▓ ▓ ░ ▓ ▓ ▓\n",
      "1  ▓ ▓ ▓ ▓ ▓ ▓ ░ ▓\n",
      "   A B C D E F G H\n"
     ]
    }
   ],
   "source": [
    "move = Move(Piece.bN, (sq.b8, sq.c6), False, False)\n",
    "position.make_move(move)\n",
    "pprint(position.board.occupied_squares_bb)"
   ]
  },
  {
   "cell_type": "code",
   "execution_count": 21,
   "id": "242f235a",
   "metadata": {},
   "outputs": [
    {
     "name": "stdout",
     "output_type": "stream",
     "text": [
      "8  ▓ ░ ▓ ▓ ▓ ▓ ▓ ▓\n",
      "7  ▓ ▓ ▓ ▓ ░ ▓ ▓ ▓\n",
      "6  ░ ░ ▓ ░ ░ ░ ░ ░\n",
      "5  ░ ▓ ░ ░ ▓ ░ ░ ░\n",
      "4  ░ ░ ░ ░ ▓ ░ ░ ░\n",
      "3  ░ ░ ░ ░ ░ ▓ ░ ░\n",
      "2  ▓ ▓ ▓ ▓ ░ ▓ ▓ ▓\n",
      "1  ▓ ▓ ▓ ▓ ▓ ░ ░ ▓\n",
      "   A B C D E F G H\n"
     ]
    }
   ],
   "source": [
    "move = Move(Piece.wB, (sq.f1, sq.b5), False, False)\n",
    "position.make_move(move)\n",
    "pprint(position.board.occupied_squares_bb)"
   ]
  },
  {
   "cell_type": "code",
   "execution_count": 22,
   "id": "92b3a1d7",
   "metadata": {},
   "outputs": [
    {
     "name": "stdout",
     "output_type": "stream",
     "text": [
      "8  ▓ ░ ▓ ▓ ▓ ▓ ▓ ▓\n",
      "7  ░ ▓ ▓ ▓ ░ ▓ ▓ ▓\n",
      "6  ▓ ░ ▓ ░ ░ ░ ░ ░\n",
      "5  ░ ▓ ░ ░ ▓ ░ ░ ░\n",
      "4  ░ ░ ░ ░ ▓ ░ ░ ░\n",
      "3  ░ ░ ░ ░ ░ ▓ ░ ░\n",
      "2  ▓ ▓ ▓ ▓ ░ ▓ ▓ ▓\n",
      "1  ▓ ▓ ▓ ▓ ▓ ░ ░ ▓\n",
      "   A B C D E F G H\n"
     ]
    }
   ],
   "source": [
    "move = Move(Piece.bP, (sq.a7, sq.a6), False, False)\n",
    "position.make_move(move)\n",
    "pprint(position.board.occupied_squares_bb)"
   ]
  },
  {
   "cell_type": "code",
   "execution_count": 23,
   "id": "74a59dd8",
   "metadata": {},
   "outputs": [
    {
     "name": "stdout",
     "output_type": "stream",
     "text": [
      "8  ▓ ░ ▓ ▓ ▓ ▓ ▓ ▓\n",
      "7  ░ ▓ ▓ ▓ ░ ▓ ▓ ▓\n",
      "6  ▓ ░ ▓ ░ ░ ░ ░ ░\n",
      "5  ░ ░ ░ ░ ▓ ░ ░ ░\n",
      "4  ▓ ░ ░ ░ ▓ ░ ░ ░\n",
      "3  ░ ░ ░ ░ ░ ▓ ░ ░\n",
      "2  ▓ ▓ ▓ ▓ ░ ▓ ▓ ▓\n",
      "1  ▓ ▓ ▓ ▓ ▓ ░ ░ ▓\n",
      "   A B C D E F G H\n"
     ]
    }
   ],
   "source": [
    "move = Move(Piece.wB, (sq.b5, sq.a4), False, False)\n",
    "position.make_move(move)\n",
    "pprint(position.board.occupied_squares_bb)"
   ]
  },
  {
   "cell_type": "code",
   "execution_count": 24,
   "id": "fc62e877",
   "metadata": {},
   "outputs": [
    {
     "name": "stdout",
     "output_type": "stream",
     "text": [
      "8  ▓ ░ ▓ ▓ ▓ ▓ ▓ ▓\n",
      "7  ░ ░ ▓ ▓ ░ ▓ ▓ ▓\n",
      "6  ▓ ░ ▓ ░ ░ ░ ░ ░\n",
      "5  ░ ▓ ░ ░ ▓ ░ ░ ░\n",
      "4  ▓ ░ ░ ░ ▓ ░ ░ ░\n",
      "3  ░ ░ ░ ░ ░ ▓ ░ ░\n",
      "2  ▓ ▓ ▓ ▓ ░ ▓ ▓ ▓\n",
      "1  ▓ ▓ ▓ ▓ ▓ ░ ░ ▓\n",
      "   A B C D E F G H\n"
     ]
    }
   ],
   "source": [
    "move = Move(Piece.bP, (sq.b7, sq.b5), False, False)\n",
    "position.make_move(move)\n",
    "pprint(position.board.occupied_squares_bb)\n"
   ]
  },
  {
   "cell_type": "code",
   "execution_count": 25,
   "id": "4d30abb2",
   "metadata": {},
   "outputs": [
    {
     "name": "stdout",
     "output_type": "stream",
     "text": [
      "8  ▓ ░ ▓ ▓ ▓ ▓ ▓ ▓\n",
      "7  ░ ░ ▓ ▓ ░ ▓ ▓ ▓\n",
      "6  ▓ ░ ▓ ░ ░ ░ ░ ░\n",
      "5  ░ ▓ ░ ░ ▓ ░ ░ ░\n",
      "4  ░ ░ ░ ░ ▓ ░ ░ ░\n",
      "3  ░ ▓ ░ ░ ░ ▓ ░ ░\n",
      "2  ▓ ▓ ▓ ▓ ░ ▓ ▓ ▓\n",
      "1  ▓ ▓ ▓ ▓ ▓ ░ ░ ▓\n",
      "   A B C D E F G H\n"
     ]
    }
   ],
   "source": [
    "move = Move(Piece.wB, (sq.a4, sq.b3), False, False)\n",
    "position.make_move(move)\n",
    "pprint(position.board.occupied_squares_bb)"
   ]
  },
  {
   "cell_type": "code",
   "execution_count": 26,
   "id": "7b126d12",
   "metadata": {},
   "outputs": [
    {
     "name": "stdout",
     "output_type": "stream",
     "text": [
      "8  ▓ ░ ▓ ▓ ▓ ▓ ░ ▓\n",
      "7  ░ ░ ▓ ▓ ░ ▓ ▓ ▓\n",
      "6  ▓ ░ ▓ ░ ░ ▓ ░ ░\n",
      "5  ░ ▓ ░ ░ ▓ ░ ░ ░\n",
      "4  ░ ░ ░ ░ ▓ ░ ░ ░\n",
      "3  ░ ▓ ░ ░ ░ ▓ ░ ░\n",
      "2  ▓ ▓ ▓ ▓ ░ ▓ ▓ ▓\n",
      "1  ▓ ▓ ▓ ▓ ▓ ░ ░ ▓\n",
      "   A B C D E F G H\n"
     ]
    }
   ],
   "source": [
    "move = Move(Piece.bN, (sq.g8, sq.f6), False, False)\n",
    "position.make_move(move)\n",
    "pprint(position.board.occupied_squares_bb)"
   ]
  },
  {
   "cell_type": "code",
   "execution_count": null,
   "id": "cfec3125",
   "metadata": {},
   "outputs": [],
   "source": []
  },
  {
   "cell_type": "code",
   "execution_count": null,
   "id": "599ade20",
   "metadata": {},
   "outputs": [],
   "source": []
  },
  {
   "cell_type": "code",
   "execution_count": null,
   "id": "02f70258",
   "metadata": {},
   "outputs": [],
   "source": []
  },
  {
   "cell_type": "code",
   "execution_count": null,
   "id": "bc10da5d",
   "metadata": {},
   "outputs": [],
   "source": []
  },
  {
   "cell_type": "code",
   "execution_count": null,
   "id": "9058a5e9",
   "metadata": {},
   "outputs": [],
   "source": []
  },
  {
   "cell_type": "code",
   "execution_count": null,
   "id": "712cfae1",
   "metadata": {},
   "outputs": [],
   "source": []
  },
  {
   "cell_type": "code",
   "execution_count": null,
   "id": "df550bdc",
   "metadata": {},
   "outputs": [],
   "source": []
  }
 ],
 "metadata": {
  "kernelspec": {
   "display_name": "Python 3 (ipykernel)",
   "language": "python",
   "name": "python3"
  },
  "language_info": {
   "codemirror_mode": {
    "name": "ipython",
    "version": 3
   },
   "file_extension": ".py",
   "mimetype": "text/x-python",
   "name": "python",
   "nbconvert_exporter": "python",
   "pygments_lexer": "ipython3",
   "version": "3.8.6"
  }
 },
 "nbformat": 4,
 "nbformat_minor": 5
}
