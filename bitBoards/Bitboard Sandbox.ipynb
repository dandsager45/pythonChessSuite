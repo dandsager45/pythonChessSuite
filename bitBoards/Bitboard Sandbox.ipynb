{
 "cells": [
  {
   "cell_type": "code",
   "execution_count": 1,
   "id": "54ad0402",
   "metadata": {},
   "outputs": [],
   "source": [
    "import numpy as np\n",
    "from bitboardInfrastructure import Board, pretty_print_bb\n",
    "from constants import SquarePosition as sq"
   ]
  },
  {
   "cell_type": "code",
   "execution_count": 2,
   "id": "0b7a53fb",
   "metadata": {
    "scrolled": true
   },
   "outputs": [],
   "source": [
    "board = Board()\n"
   ]
  },
  {
   "cell_type": "code",
   "execution_count": 3,
   "id": "0e870394",
   "metadata": {},
   "outputs": [],
   "source": [
    "state = board.update_occupied_squares_bb()\n"
   ]
  },
  {
   "cell_type": "code",
   "execution_count": 4,
   "id": "e7661a98",
   "metadata": {},
   "outputs": [
    {
     "data": {
      "text/plain": [
       "array([1, 1, 1, 1, 1, 1, 1, 1, 1, 1, 1, 1, 1, 1, 1, 1, 0, 0, 0, 0, 0, 0,\n",
       "       0, 0, 0, 0, 0, 0, 0, 0, 0, 0, 0, 0, 0, 0, 0, 0, 0, 0, 0, 0, 0, 0,\n",
       "       0, 0, 0, 0, 1, 1, 1, 1, 1, 1, 1, 1, 1, 1, 1, 1, 1, 1, 1, 1],\n",
       "      dtype=int8)"
      ]
     },
     "execution_count": 4,
     "metadata": {},
     "output_type": "execute_result"
    }
   ],
   "source": [
    "board.occupied_squares_bb"
   ]
  },
  {
   "cell_type": "code",
   "execution_count": 5,
   "id": "456d1337",
   "metadata": {},
   "outputs": [
    {
     "name": "stdout",
     "output_type": "stream",
     "text": [
      "8  ▓ ▓ ▓ ▓ ▓ ▓ ▓ ▓\n",
      "7  ▓ ▓ ▓ ▓ ▓ ▓ ▓ ▓\n",
      "6  ░ ░ ░ ░ ░ ░ ░ ░\n",
      "5  ░ ░ ░ ░ ░ ░ ░ ░\n",
      "4  ░ ░ ░ ░ ░ ░ ░ ░\n",
      "3  ░ ░ ░ ░ ░ ░ ░ ░\n",
      "2  ▓ ▓ ▓ ▓ ▓ ▓ ▓ ▓\n",
      "1  ▓ ▓ ▓ ▓ ▓ ▓ ▓ ▓\n",
      "   A B C D E F G H\n"
     ]
    }
   ],
   "source": [
    "pretty_print_bb(board.occupied_squares_bb)"
   ]
  },
  {
   "cell_type": "code",
   "execution_count": 6,
   "id": "93f4a62e",
   "metadata": {},
   "outputs": [],
   "source": [
    "white_pawns = board.white_P_bb\n",
    "white_king = board.white_K_bb"
   ]
  },
  {
   "cell_type": "code",
   "execution_count": 7,
   "id": "f9265e44",
   "metadata": {},
   "outputs": [
    {
     "name": "stdout",
     "output_type": "stream",
     "text": [
      "8  ░ ░ ░ ░ ░ ░ ░ ░\n",
      "7  ░ ░ ░ ░ ░ ░ ░ ░\n",
      "6  ░ ░ ░ ░ ░ ░ ░ ░\n",
      "5  ░ ░ ░ ░ ░ ░ ░ ░\n",
      "4  ░ ░ ░ ░ ░ ░ ░ ░\n",
      "3  ░ ░ ░ ░ ░ ░ ░ ░\n",
      "2  ▓ ▓ ▓ ▓ ▓ ▓ ▓ ▓\n",
      "1  ░ ░ ░ ░ ░ ░ ░ ░\n",
      "   A B C D E F G H\n"
     ]
    }
   ],
   "source": [
    "pretty_print_bb(white_pawns)"
   ]
  },
  {
   "cell_type": "code",
   "execution_count": 8,
   "id": "3556c13b",
   "metadata": {},
   "outputs": [
    {
     "name": "stdout",
     "output_type": "stream",
     "text": [
      "8  ░ ░ ░ ░ ░ ░ ░ ░\n",
      "7  ░ ░ ░ ░ ░ ░ ░ ░\n",
      "6  ░ ░ ░ ░ ░ ░ ░ ░\n",
      "5  ░ ░ ░ ░ ░ ░ ░ ░\n",
      "4  ░ ░ ░ ░ ░ ░ ░ ░\n",
      "3  ░ ░ ░ ░ ░ ░ ░ ░\n",
      "2  ░ ░ ░ ░ ░ ░ ░ ░\n",
      "1  ░ ░ ░ ░ ▓ ░ ░ ░\n",
      "   A B C D E F G H\n"
     ]
    }
   ],
   "source": [
    "pretty_print_bb(white_king)"
   ]
  },
  {
   "cell_type": "code",
   "execution_count": 9,
   "id": "a1ddf940",
   "metadata": {},
   "outputs": [
    {
     "name": "stdout",
     "output_type": "stream",
     "text": [
      "8  ▓ ░ ░ ░ ░ ░ ░ ▓\n",
      "7  ░ ░ ░ ░ ░ ░ ░ ░\n",
      "6  ░ ░ ░ ░ ░ ░ ░ ░\n",
      "5  ░ ░ ░ ░ ░ ░ ░ ░\n",
      "4  ░ ░ ░ ░ ░ ░ ░ ░\n",
      "3  ░ ░ ░ ░ ░ ░ ░ ░\n",
      "2  ░ ░ ░ ░ ░ ░ ░ ░\n",
      "1  ░ ░ ░ ░ ░ ░ ░ ░\n",
      "   A B C D E F G H\n"
     ]
    }
   ],
   "source": [
    "pretty_print_bb(board.black_R_bb)"
   ]
  },
  {
   "cell_type": "code",
   "execution_count": 10,
   "id": "25e424d1",
   "metadata": {},
   "outputs": [
    {
     "name": "stdout",
     "output_type": "stream",
     "text": [
      "8  ░ ░ ░ ░ ░ ░ ░ ░\n",
      "7  ░ ░ ░ ░ ░ ░ ░ ░\n",
      "6  ▓ ▓ ▓ ▓ ▓ ▓ ▓ ▓\n",
      "5  ▓ ▓ ▓ ▓ ▓ ▓ ▓ ▓\n",
      "4  ▓ ▓ ▓ ▓ ▓ ▓ ▓ ▓\n",
      "3  ▓ ▓ ▓ ▓ ▓ ▓ ▓ ▓\n",
      "2  ░ ░ ░ ░ ░ ░ ░ ░\n",
      "1  ░ ░ ░ ░ ░ ░ ░ ░\n",
      "   A B C D E F G H\n"
     ]
    }
   ],
   "source": [
    "pretty_print_bb(board.get_empty_squares_bb())"
   ]
  },
  {
   "cell_type": "code",
   "execution_count": 11,
   "id": "154d9722",
   "metadata": {},
   "outputs": [
    {
     "name": "stdout",
     "output_type": "stream",
     "text": [
      "8  ▓ ▓ ▓ ▓ ▓ ▓ ▓ ▓\n",
      "7  ▓ ▓ ▓ ▓ ▓ ▓ ▓ ▓\n",
      "6  ░ ░ ░ ░ ░ ░ ░ ░\n",
      "5  ░ ░ ░ ░ ░ ░ ░ ░\n",
      "4  ░ ░ ░ ░ ░ ░ ░ ░\n",
      "3  ░ ░ ░ ░ ░ ░ ░ ░\n",
      "2  ▓ ▓ ▓ ▓ ▓ ▓ ▓ ▓\n",
      "1  ▓ ▓ ▓ ▓ ▓ ▓ ▓ ▓\n",
      "   A B C D E F G H\n"
     ]
    }
   ],
   "source": [
    "pretty_print_bb(board.occupied_squares_bb)"
   ]
  },
  {
   "cell_type": "code",
   "execution_count": 12,
   "id": "00faafdf",
   "metadata": {},
   "outputs": [
    {
     "name": "stdout",
     "output_type": "stream",
     "text": [
      "8  ▓ ▓ ▓ ▓ ░ ░ ░ ░\n",
      "7  ▓ ▓ ▓ ▓ ░ ░ ░ ░\n",
      "6  ▓ ▓ ▓ ▓ ░ ░ ░ ░\n",
      "5  ▓ ▓ ▓ ▓ ░ ░ ░ ░\n",
      "4  ▓ ▓ ▓ ▓ ░ ░ ░ ░\n",
      "3  ▓ ▓ ▓ ▓ ░ ░ ░ ░\n",
      "2  ▓ ▓ ▓ ▓ ░ ░ ░ ░\n",
      "1  ▓ ▓ ▓ ▓ ░ ░ ░ ░\n",
      "   A B C D E F G H\n",
      "8  ░ ░ ░ ░ ▓ ▓ ▓ ▓\n",
      "7  ░ ░ ░ ░ ▓ ▓ ▓ ▓\n",
      "6  ░ ░ ░ ░ ▓ ▓ ▓ ▓\n",
      "5  ░ ░ ░ ░ ▓ ▓ ▓ ▓\n",
      "4  ░ ░ ░ ░ ▓ ▓ ▓ ▓\n",
      "3  ░ ░ ░ ░ ▓ ▓ ▓ ▓\n",
      "2  ░ ░ ░ ░ ▓ ▓ ▓ ▓\n",
      "1  ░ ░ ░ ░ ▓ ▓ ▓ ▓\n",
      "   A B C D E F G H\n",
      "8  ░ ░ ▓ ▓ ▓ ▓ ░ ░\n",
      "7  ░ ░ ▓ ▓ ▓ ▓ ░ ░\n",
      "6  ░ ░ ▓ ▓ ▓ ▓ ░ ░\n",
      "5  ░ ░ ▓ ▓ ▓ ▓ ░ ░\n",
      "4  ░ ░ ▓ ▓ ▓ ▓ ░ ░\n",
      "3  ░ ░ ▓ ▓ ▓ ▓ ░ ░\n",
      "2  ░ ░ ▓ ▓ ▓ ▓ ░ ░\n",
      "1  ░ ░ ▓ ▓ ▓ ▓ ░ ░\n",
      "   A B C D E F G H\n",
      "8  ░ ░ ░ ░ ░ ░ ░ ░\n",
      "7  ░ ░ ░ ░ ░ ░ ░ ░\n",
      "6  ░ ░ ░ ░ ░ ░ ░ ░\n",
      "5  ░ ░ ░ ▓ ▓ ░ ░ ░\n",
      "4  ░ ░ ░ ▓ ▓ ░ ░ ░\n",
      "3  ░ ░ ░ ░ ░ ░ ░ ░\n",
      "2  ░ ░ ░ ░ ░ ░ ░ ░\n",
      "1  ░ ░ ░ ░ ░ ░ ░ ░\n",
      "   A B C D E F G H\n",
      "8  ▓ ░ ░ ░ ░ ░ ░ ▓\n",
      "7  ▓ ░ ░ ░ ░ ░ ░ ▓\n",
      "6  ▓ ░ ░ ░ ░ ░ ░ ▓\n",
      "5  ▓ ░ ░ ░ ░ ░ ░ ▓\n",
      "4  ▓ ░ ░ ░ ░ ░ ░ ▓\n",
      "3  ▓ ░ ░ ░ ░ ░ ░ ▓\n",
      "2  ▓ ░ ░ ░ ░ ░ ░ ▓\n",
      "1  ▓ ░ ░ ░ ░ ░ ░ ▓\n",
      "   A B C D E F G H\n"
     ]
    }
   ],
   "source": [
    "pretty_print_bb(board.queenside_bb)\n",
    "pretty_print_bb(board.kingside_bb)\n",
    "pretty_print_bb(board.center_files_bb)\n",
    "pretty_print_bb(board.center_bb)\n",
    "pretty_print_bb(board.flanks_bb)"
   ]
  },
  {
   "cell_type": "code",
   "execution_count": 13,
   "id": "8767dde0",
   "metadata": {},
   "outputs": [
    {
     "name": "stdout",
     "output_type": "stream",
     "text": [
      "8  ▓ ▓ ▓ ▓ ▓ ▓ ▓ ▓\n",
      "7  ▓ ▓ ▓ ▓ ▓ ▓ ▓ ▓\n",
      "6  ░ ░ ░ ░ ░ ░ ░ ░\n",
      "5  ░ ░ ░ ░ ░ ░ ░ ░\n",
      "4  ░ ░ ░ ░ ░ ░ ░ ░\n",
      "3  ░ ░ ░ ░ ░ ░ ░ ░\n",
      "2  ░ ░ ░ ░ ░ ░ ░ ░\n",
      "1  ░ ░ ░ ░ ░ ░ ░ ░\n",
      "   A B C D E F G H\n"
     ]
    }
   ],
   "source": [
    "pretty_print_bb(board.get_black_pieces_bb())"
   ]
  },
  {
   "cell_type": "code",
   "execution_count": 14,
   "id": "95da9200",
   "metadata": {},
   "outputs": [
    {
     "name": "stdout",
     "output_type": "stream",
     "text": [
      "8  ░ ░ ░ ░ ░ ░ ░ ░\n",
      "7  ░ ░ ░ ░ ░ ░ ░ ░\n",
      "6  ░ ░ ░ ░ ░ ░ ░ ░\n",
      "5  ░ ░ ░ ░ ░ ░ ░ ░\n",
      "4  ░ ░ ░ ░ ░ ░ ░ ░\n",
      "3  ░ ░ ░ ░ ░ ░ ░ ░\n",
      "2  ░ ░ ░ ░ ░ ░ ░ ░\n",
      "1  ▓ ▓ ▓ ▓ ▓ ▓ ▓ ▓\n",
      "   A B C D E F G H\n",
      "8  ░ ░ ░ ░ ░ ░ ░ ░\n",
      "7  ░ ░ ░ ░ ░ ░ ░ ░\n",
      "6  ░ ░ ░ ░ ░ ░ ░ ░\n",
      "5  ░ ░ ░ ░ ░ ░ ░ ░\n",
      "4  ░ ░ ░ ░ ░ ░ ░ ░\n",
      "3  ░ ░ ▓ ▓ ▓ ▓ ▓ ▓\n",
      "2  ░ ░ ░ ░ ░ ░ ░ ░\n",
      "1  ▓ ▓ ▓ ▓ ▓ ▓ ▓ ▓\n",
      "   A B C D E F G H\n"
     ]
    }
   ],
   "source": [
    "board.plus1(sq.a1)\n",
    "pretty_print_bb(board.bb)\n",
    "board.plus1(sq.c3)\n",
    "pretty_print_bb(board.bb)"
   ]
  },
  {
   "cell_type": "code",
   "execution_count": 33,
   "id": "0725a6ba",
   "metadata": {},
   "outputs": [
    {
     "name": "stdout",
     "output_type": "stream",
     "text": [
      "8  ░ ░ ░ ░ ░ ░ ░ ░\n",
      "7  ░ ░ ░ ░ ░ ░ ░ ░\n",
      "6  ░ ░ ░ ░ ░ ░ ░ ░\n",
      "5  ▓ ░ ░ ░ ░ ░ ░ ▓\n",
      "4  ░ ▓ ░ ░ ░ ░ ░ ░\n",
      "3  ░ ░ ▓ ░ ░ ░ ░ ░\n",
      "2  ░ ░ ░ ▓ ░ ░ ░ ░\n",
      "1  ░ ░ ░ ░ ░ ░ ░ ░\n",
      "   A B C D E F G H\n"
     ]
    },
    {
     "data": {
      "text/plain": [
       "11"
      ]
     },
     "execution_count": 33,
     "metadata": {},
     "output_type": "execute_result"
    }
   ],
   "source": [
    "board.reset_bb()\n",
    "board.plus7(sq.d2)\n",
    "pretty_print_bb(board.bb)\n",
    "sq.d2\n"
   ]
  },
  {
   "cell_type": "code",
   "execution_count": 16,
   "id": "66d76d06",
   "metadata": {},
   "outputs": [
    {
     "name": "stdout",
     "output_type": "stream",
     "text": [
      "8  ▓ ▓ ▓ ▓ ▓ ▓ ▓ ▓\n",
      "7  ▓ ▓ ▓ ▓ ▓ ▓ ▓ ▓\n",
      "6  ░ ░ ░ ░ ░ ░ ░ ░\n",
      "5  ░ ░ ░ ░ ░ ░ ░ ░\n",
      "4  ░ ░ ░ ░ ░ ░ ░ ░\n",
      "3  ░ ░ ░ ░ ░ ░ ░ ░\n",
      "2  ▓ ▓ ▓ ▓ ▓ ▓ ▓ ▓\n",
      "1  ▓ ▓ ▓ ▓ ▓ ▓ ▓ ▓\n",
      "   A B C D E F G H\n"
     ]
    }
   ],
   "source": [
    "pretty_print_bb(board.occupied_squares_bb)"
   ]
  },
  {
   "cell_type": "code",
   "execution_count": 34,
   "id": "b8fe66e3",
   "metadata": {},
   "outputs": [
    {
     "name": "stdout",
     "output_type": "stream",
     "text": [
      "11\n",
      "4\n",
      "\n",
      "\n",
      "18\n",
      "3\n",
      "\n",
      "\n",
      "25\n",
      "2\n",
      "\n",
      "\n",
      "32\n",
      "1\n",
      "\n",
      "\n",
      "39\n",
      "0\n",
      "\n",
      "\n",
      "46\n",
      "7\n",
      "\n",
      "\n",
      "53\n",
      "6\n",
      "\n",
      "\n",
      "60\n",
      "5\n",
      "\n",
      "\n"
     ]
    }
   ],
   "source": [
    "for i in range (11, 64, 7):\n",
    "    print(i) \n",
    "    print((i+1)%8) \n",
    "    print (\"\\n\")"
   ]
  }
 ],
 "metadata": {
  "kernelspec": {
   "display_name": "Python 3 (ipykernel)",
   "language": "python",
   "name": "python3"
  },
  "language_info": {
   "codemirror_mode": {
    "name": "ipython",
    "version": 3
   },
   "file_extension": ".py",
   "mimetype": "text/x-python",
   "name": "python",
   "nbconvert_exporter": "python",
   "pygments_lexer": "ipython3",
   "version": "3.8.6"
  }
 },
 "nbformat": 4,
 "nbformat_minor": 5
}
