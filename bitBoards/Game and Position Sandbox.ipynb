{
 "cells": [
  {
   "cell_type": "code",
   "execution_count": 1,
   "id": "daa61aff",
   "metadata": {},
   "outputs": [],
   "source": [
    "from game import Game\n",
    "from position import Position\n",
    "from bitboardInfrastructure import Board\n",
    "from bitboardInfrastructure import pretty_print_bb as pprint\n",
    "from constants import Piece, SquarePosition as sq\n",
    "import numpy as np"
   ]
  },
  {
   "cell_type": "code",
   "execution_count": 2,
   "id": "de02cd11",
   "metadata": {},
   "outputs": [
    {
     "ename": "IndexError",
     "evalue": "index 6 is out of bounds for axis 0 with size 1",
     "output_type": "error",
     "traceback": [
      "\u001b[0;31m---------------------------------------------------------------------------\u001b[0m",
      "\u001b[0;31mIndexError\u001b[0m                                Traceback (most recent call last)",
      "\u001b[0;32m/tmp/ipykernel_3951/3924205249.py\u001b[0m in \u001b[0;36m<module>\u001b[0;34m\u001b[0m\n\u001b[0;32m----> 1\u001b[0;31m \u001b[0mgame\u001b[0m \u001b[0;34m=\u001b[0m \u001b[0mGame\u001b[0m\u001b[0;34m(\u001b[0m\u001b[0;34m)\u001b[0m\u001b[0;34m\u001b[0m\u001b[0;34m\u001b[0m\u001b[0m\n\u001b[0m",
      "\u001b[0;32m~/dev/pythonChessSuite/bitBoards/game.py\u001b[0m in \u001b[0;36m__init__\u001b[0;34m(self)\u001b[0m\n\u001b[1;32m      4\u001b[0m     \u001b[0;32mdef\u001b[0m \u001b[0m__init__\u001b[0m\u001b[0;34m(\u001b[0m\u001b[0mself\u001b[0m\u001b[0;34m)\u001b[0m\u001b[0;34m:\u001b[0m\u001b[0;34m\u001b[0m\u001b[0;34m\u001b[0m\u001b[0m\n\u001b[1;32m      5\u001b[0m         \u001b[0mself\u001b[0m\u001b[0;34m.\u001b[0m\u001b[0mhistory\u001b[0m \u001b[0;34m=\u001b[0m \u001b[0;34m[\u001b[0m\u001b[0;34m]\u001b[0m\u001b[0;34m\u001b[0m\u001b[0;34m\u001b[0m\u001b[0m\n\u001b[0;32m----> 6\u001b[0;31m         \u001b[0minitial_position\u001b[0m \u001b[0;34m=\u001b[0m \u001b[0mPosition\u001b[0m\u001b[0;34m(\u001b[0m\u001b[0;32mNone\u001b[0m\u001b[0;34m)\u001b[0m\u001b[0;34m\u001b[0m\u001b[0;34m\u001b[0m\u001b[0m\n\u001b[0m\u001b[1;32m      7\u001b[0m         \u001b[0mself\u001b[0m\u001b[0;34m.\u001b[0m\u001b[0mhistory\u001b[0m\u001b[0;34m.\u001b[0m\u001b[0mappend\u001b[0m\u001b[0;34m(\u001b[0m\u001b[0minitial_position\u001b[0m\u001b[0;34m)\u001b[0m\u001b[0;34m\u001b[0m\u001b[0;34m\u001b[0m\u001b[0m\n\u001b[1;32m      8\u001b[0m         \u001b[0mself\u001b[0m\u001b[0;34m.\u001b[0m\u001b[0mhalf_move_number\u001b[0m \u001b[0;34m=\u001b[0m \u001b[0;36m0\u001b[0m\u001b[0;34m\u001b[0m\u001b[0;34m\u001b[0m\u001b[0m\n",
      "\u001b[0;32m~/dev/pythonChessSuite/bitBoards/position.py\u001b[0m in \u001b[0;36m__init__\u001b[0;34m(self, board)\u001b[0m\n\u001b[1;32m      6\u001b[0m     \u001b[0;32mdef\u001b[0m \u001b[0m__init__\u001b[0m\u001b[0;34m(\u001b[0m\u001b[0mself\u001b[0m\u001b[0;34m,\u001b[0m \u001b[0mboard\u001b[0m\u001b[0;34m)\u001b[0m\u001b[0;34m:\u001b[0m\u001b[0;34m\u001b[0m\u001b[0;34m\u001b[0m\u001b[0m\n\u001b[1;32m      7\u001b[0m         \u001b[0;32mif\u001b[0m \u001b[0mboard\u001b[0m \u001b[0;32mis\u001b[0m \u001b[0;32mNone\u001b[0m\u001b[0;34m:\u001b[0m\u001b[0;34m\u001b[0m\u001b[0;34m\u001b[0m\u001b[0m\n\u001b[0;32m----> 8\u001b[0;31m             \u001b[0mself\u001b[0m\u001b[0;34m.\u001b[0m\u001b[0mboard\u001b[0m \u001b[0;34m=\u001b[0m \u001b[0mBoard\u001b[0m\u001b[0;34m(\u001b[0m\u001b[0;34m)\u001b[0m\u001b[0;34m\u001b[0m\u001b[0;34m\u001b[0m\u001b[0m\n\u001b[0m\u001b[1;32m      9\u001b[0m         \u001b[0;32melse\u001b[0m\u001b[0;34m:\u001b[0m\u001b[0;34m\u001b[0m\u001b[0;34m\u001b[0m\u001b[0m\n\u001b[1;32m     10\u001b[0m             \u001b[0mself\u001b[0m\u001b[0;34m.\u001b[0m\u001b[0mboard\u001b[0m \u001b[0;34m=\u001b[0m \u001b[0mboard\u001b[0m\u001b[0;34m\u001b[0m\u001b[0;34m\u001b[0m\u001b[0m\n",
      "\u001b[0;32m~/dev/pythonChessSuite/bitBoards/bitboardInfrastructure.py\u001b[0m in \u001b[0;36m__init__\u001b[0;34m(self)\u001b[0m\n\u001b[1;32m    117\u001b[0m \u001b[0;34m\u001b[0m\u001b[0m\n\u001b[1;32m    118\u001b[0m         \u001b[0;31m#static knight attacks (should this be independent?)\u001b[0m\u001b[0;34m\u001b[0m\u001b[0;34m\u001b[0m\u001b[0;34m\u001b[0m\u001b[0m\n\u001b[0;32m--> 119\u001b[0;31m         \u001b[0mself\u001b[0m\u001b[0;34m.\u001b[0m\u001b[0mknight_bbs\u001b[0m \u001b[0;34m=\u001b[0m \u001b[0mself\u001b[0m\u001b[0;34m.\u001b[0m\u001b[0m_make_knight_bb\u001b[0m\u001b[0;34m(\u001b[0m\u001b[0;34m)\u001b[0m\u001b[0;34m\u001b[0m\u001b[0;34m\u001b[0m\u001b[0m\n\u001b[0m\u001b[1;32m    120\u001b[0m \u001b[0;34m\u001b[0m\u001b[0m\n\u001b[1;32m    121\u001b[0m         \u001b[0;31m#static pawn attacks\u001b[0m\u001b[0;34m\u001b[0m\u001b[0;34m\u001b[0m\u001b[0;34m\u001b[0m\u001b[0m\n",
      "\u001b[0;32m~/dev/pythonChessSuite/bitBoards/bitboardInfrastructure.py\u001b[0m in \u001b[0;36m_make_knight_bb\u001b[0;34m(self)\u001b[0m\n\u001b[1;32m    337\u001b[0m         \u001b[0mknight_attack_map\u001b[0m \u001b[0;34m=\u001b[0m \u001b[0;34m{\u001b[0m\u001b[0;34m}\u001b[0m\u001b[0;34m\u001b[0m\u001b[0;34m\u001b[0m\u001b[0m\n\u001b[1;32m    338\u001b[0m         \u001b[0;32mfor\u001b[0m \u001b[0mi\u001b[0m \u001b[0;32min\u001b[0m \u001b[0mrange\u001b[0m\u001b[0;34m(\u001b[0m\u001b[0mBOARD_SQUARES\u001b[0m\u001b[0;34m)\u001b[0m\u001b[0;34m:\u001b[0m\u001b[0;34m\u001b[0m\u001b[0;34m\u001b[0m\u001b[0m\n\u001b[0;32m--> 339\u001b[0;31m             \u001b[0mknight_attack_map\u001b[0m\u001b[0;34m[\u001b[0m\u001b[0mi\u001b[0m\u001b[0;34m]\u001b[0m \u001b[0;34m=\u001b[0m \u001b[0mself\u001b[0m\u001b[0;34m.\u001b[0m\u001b[0m_knight_attacks\u001b[0m\u001b[0;34m(\u001b[0m\u001b[0mi\u001b[0m\u001b[0;34m)\u001b[0m\u001b[0;34m\u001b[0m\u001b[0;34m\u001b[0m\u001b[0m\n\u001b[0m\u001b[1;32m    340\u001b[0m         \u001b[0;32mreturn\u001b[0m \u001b[0mknight_attack_map\u001b[0m\u001b[0;34m\u001b[0m\u001b[0;34m\u001b[0m\u001b[0m\n\u001b[1;32m    341\u001b[0m \u001b[0;34m\u001b[0m\u001b[0m\n",
      "\u001b[0;32m~/dev/pythonChessSuite/bitBoards/bitboardInfrastructure.py\u001b[0m in \u001b[0;36m_knight_attacks\u001b[0;34m(self, square)\u001b[0m\n\u001b[1;32m    370\u001b[0m                 \u001b[0;31m#Skip OOB\u001b[0m\u001b[0;34m\u001b[0m\u001b[0;34m\u001b[0m\u001b[0;34m\u001b[0m\u001b[0m\n\u001b[1;32m    371\u001b[0m                 \u001b[0;32mcontinue\u001b[0m\u001b[0;34m\u001b[0m\u001b[0;34m\u001b[0m\u001b[0m\n\u001b[0;32m--> 372\u001b[0;31m             \u001b[0mattacks\u001b[0m\u001b[0;34m[\u001b[0m\u001b[0msquare\u001b[0m \u001b[0;34m+\u001b[0m \u001b[0mi\u001b[0m\u001b[0;34m]\u001b[0m \u001b[0;34m=\u001b[0m \u001b[0;36m1\u001b[0m\u001b[0;34m\u001b[0m\u001b[0;34m\u001b[0m\u001b[0m\n\u001b[0m\u001b[1;32m    373\u001b[0m         \u001b[0;32mif\u001b[0m \u001b[0magg_mask\u001b[0m\u001b[0;34m.\u001b[0m\u001b[0many\u001b[0m\u001b[0;34m(\u001b[0m\u001b[0;34m)\u001b[0m\u001b[0;34m:\u001b[0m\u001b[0;34m\u001b[0m\u001b[0;34m\u001b[0m\u001b[0m\n\u001b[1;32m    374\u001b[0m             \u001b[0;31m#bit shift the attacks by mask\u001b[0m\u001b[0;34m\u001b[0m\u001b[0;34m\u001b[0m\u001b[0;34m\u001b[0m\u001b[0m\n",
      "\u001b[0;31mIndexError\u001b[0m: index 6 is out of bounds for axis 0 with size 1"
     ]
    }
   ],
   "source": [
    "game = Game()"
   ]
  },
  {
   "cell_type": "code",
   "execution_count": null,
   "id": "a411fb4d",
   "metadata": {},
   "outputs": [],
   "source": [
    "game.get_current_position().__dict__"
   ]
  },
  {
   "cell_type": "code",
   "execution_count": null,
   "id": "2b3a05e1",
   "metadata": {},
   "outputs": [],
   "source": [
    "position = game.get_current_position()\n",
    "position.board"
   ]
  },
  {
   "cell_type": "code",
   "execution_count": null,
   "id": "63e3eea7",
   "metadata": {},
   "outputs": [],
   "source": [
    "black_pieces = position.board.black_pieces_bb"
   ]
  },
  {
   "cell_type": "code",
   "execution_count": null,
   "id": "592243ea",
   "metadata": {},
   "outputs": [],
   "source": [
    "white_pieces = position.board.white_pieces_bb"
   ]
  },
  {
   "cell_type": "code",
   "execution_count": null,
   "id": "4cde55b0",
   "metadata": {},
   "outputs": [],
   "source": [
    "white_pieces = position.board.white_pieces_bb"
   ]
  },
  {
   "cell_type": "code",
   "execution_count": null,
   "id": "0db81939",
   "metadata": {},
   "outputs": [],
   "source": []
  },
  {
   "cell_type": "code",
   "execution_count": null,
   "id": "2f15fd56",
   "metadata": {},
   "outputs": [],
   "source": [
    "pprint(white_pieces)"
   ]
  },
  {
   "cell_type": "code",
   "execution_count": null,
   "id": "2129cf88",
   "metadata": {},
   "outputs": [],
   "source": [
    "pprint(black_pieces)"
   ]
  },
  {
   "cell_type": "code",
   "execution_count": null,
   "id": "72bc7c80",
   "metadata": {},
   "outputs": [],
   "source": [
    "pprint(white_pieces | black_pieces)"
   ]
  },
  {
   "cell_type": "code",
   "execution_count": null,
   "id": "7b0e91ba",
   "metadata": {},
   "outputs": [],
   "source": [
    "from constants import Piece, SquarePosition as sq\n",
    "from move import Move"
   ]
  },
  {
   "cell_type": "code",
   "execution_count": null,
   "id": "cd5c3d0b",
   "metadata": {},
   "outputs": [],
   "source": [
    "position = game.get_current_position()\n",
    "position.board"
   ]
  },
  {
   "cell_type": "code",
   "execution_count": null,
   "id": "8bea7e63",
   "metadata": {},
   "outputs": [],
   "source": [
    "move = Move(Piece.wP, (sq.e2, sq.e4), False, False)\n",
    "\n",
    "position.make_move(move)"
   ]
  },
  {
   "cell_type": "code",
   "execution_count": null,
   "id": "81010d0a",
   "metadata": {},
   "outputs": [],
   "source": [
    "position.board.white_pieces_bb"
   ]
  },
  {
   "cell_type": "code",
   "execution_count": null,
   "id": "b250445a",
   "metadata": {},
   "outputs": [],
   "source": [
    "pprint(position.board.black_pieces_bb)"
   ]
  },
  {
   "cell_type": "code",
   "execution_count": null,
   "id": "4e6c730a",
   "metadata": {},
   "outputs": [],
   "source": [
    "pprint(position.board.occupied_squares_bb)"
   ]
  },
  {
   "cell_type": "code",
   "execution_count": null,
   "id": "3cb3a8ce",
   "metadata": {},
   "outputs": [],
   "source": [
    "move = Move( Piece.bP, (sq.e7, sq.e5), False, False)\n",
    "position.make_move(move)"
   ]
  },
  {
   "cell_type": "code",
   "execution_count": null,
   "id": "10a890dc",
   "metadata": {},
   "outputs": [],
   "source": [
    "pprint(position.board.occupied_squares_bb)"
   ]
  },
  {
   "cell_type": "code",
   "execution_count": null,
   "id": "b6923e10",
   "metadata": {},
   "outputs": [],
   "source": [
    "move = Move(Piece.wN, (sq.g1, sq.f3), False, False)\n",
    "position.make_move(move)\n",
    "pprint(position.board.occupied_squares_bb)"
   ]
  },
  {
   "cell_type": "code",
   "execution_count": null,
   "id": "d8e8e34f",
   "metadata": {},
   "outputs": [],
   "source": [
    "move = Move(Piece.bN, (sq.b8, sq.c6), False, False)\n",
    "position.make_move(move)\n",
    "pprint(position.board.occupied_squares_bb)"
   ]
  },
  {
   "cell_type": "code",
   "execution_count": null,
   "id": "242f235a",
   "metadata": {},
   "outputs": [],
   "source": [
    "move = Move(Piece.wB, (sq.f1, sq.b5), False, False)\n",
    "position.make_move(move)\n",
    "pprint(position.board.occupied_squares_bb)"
   ]
  },
  {
   "cell_type": "code",
   "execution_count": null,
   "id": "92b3a1d7",
   "metadata": {},
   "outputs": [],
   "source": [
    "move = Move(Piece.bP, (sq.a7, sq.a6), False, False)\n",
    "position.make_move(move)\n",
    "pprint(position.board.occupied_squares_bb)"
   ]
  },
  {
   "cell_type": "code",
   "execution_count": null,
   "id": "74a59dd8",
   "metadata": {},
   "outputs": [],
   "source": [
    "move = Move(Piece.wB, (sq.b5, sq.a4), False, False)\n",
    "position.make_move(move)\n",
    "pprint(position.board.occupied_squares_bb)"
   ]
  },
  {
   "cell_type": "code",
   "execution_count": null,
   "id": "fc62e877",
   "metadata": {},
   "outputs": [],
   "source": [
    "move = Move(Piece.bP, (sq.b7, sq.b5), False, False)\n",
    "position.make_move(move)\n",
    "pprint(position.board.occupied_squares_bb)\n"
   ]
  },
  {
   "cell_type": "code",
   "execution_count": null,
   "id": "4d30abb2",
   "metadata": {},
   "outputs": [],
   "source": [
    "move = Move(Piece.wB, (sq.a4, sq.b3), False, False)\n",
    "position.make_move(move)\n",
    "pprint(position.board.occupied_squares_bb)"
   ]
  },
  {
   "cell_type": "code",
   "execution_count": null,
   "id": "7b126d12",
   "metadata": {},
   "outputs": [],
   "source": [
    "move = Move(Piece.bN, (sq.g8, sq.f6), False, False)\n",
    "position.make_move(move)\n",
    "pprint(position.board.occupied_squares_bb)"
   ]
  },
  {
   "cell_type": "code",
   "execution_count": null,
   "id": "cfec3125",
   "metadata": {},
   "outputs": [],
   "source": []
  },
  {
   "cell_type": "code",
   "execution_count": 3,
   "id": "599ade20",
   "metadata": {},
   "outputs": [],
   "source": [
    "def make_empty():\n",
    "    return np.zeros(1, dtype=np.uint64)"
   ]
  },
  {
   "cell_type": "code",
   "execution_count": 4,
   "id": "02f70258",
   "metadata": {},
   "outputs": [],
   "source": [
    "test_bb = make_empty()"
   ]
  },
  {
   "cell_type": "code",
   "execution_count": 5,
   "id": "bc10da5d",
   "metadata": {},
   "outputs": [
    {
     "data": {
      "text/plain": [
       "numpy.ndarray"
      ]
     },
     "execution_count": 5,
     "metadata": {},
     "output_type": "execute_result"
    }
   ],
   "source": [
    "type(test_bb)"
   ]
  },
  {
   "cell_type": "code",
   "execution_count": 8,
   "id": "9058a5e9",
   "metadata": {},
   "outputs": [
    {
     "data": {
      "text/plain": [
       "0"
      ]
     },
     "execution_count": 8,
     "metadata": {},
     "output_type": "execute_result"
    }
   ],
   "source": [
    "test_bb[0]"
   ]
  },
  {
   "cell_type": "code",
   "execution_count": null,
   "id": "712cfae1",
   "metadata": {},
   "outputs": [],
   "source": []
  },
  {
   "cell_type": "code",
   "execution_count": null,
   "id": "b2ac231c",
   "metadata": {},
   "outputs": [],
   "source": []
  },
  {
   "cell_type": "code",
   "execution_count": null,
   "id": "9bbf1c4e",
   "metadata": {},
   "outputs": [],
   "source": []
  },
  {
   "cell_type": "code",
   "execution_count": null,
   "id": "30fa614a",
   "metadata": {},
   "outputs": [],
   "source": []
  },
  {
   "cell_type": "code",
   "execution_count": null,
   "id": "b173143a",
   "metadata": {},
   "outputs": [],
   "source": []
  },
  {
   "cell_type": "code",
   "execution_count": null,
   "id": "ca87bda4",
   "metadata": {},
   "outputs": [],
   "source": []
  },
  {
   "cell_type": "code",
   "execution_count": null,
   "id": "c10de5ff",
   "metadata": {},
   "outputs": [],
   "source": []
  },
  {
   "cell_type": "code",
   "execution_count": null,
   "id": "43d80c21",
   "metadata": {},
   "outputs": [],
   "source": []
  },
  {
   "cell_type": "code",
   "execution_count": null,
   "id": "df550bdc",
   "metadata": {},
   "outputs": [],
   "source": [
    "bitboard = np.zeros(1, dtype=np.uint64)"
   ]
  },
  {
   "cell_type": "code",
   "execution_count": null,
   "id": "e61fab81",
   "metadata": {},
   "outputs": [],
   "source": [
    "bitboard.tobytes()"
   ]
  },
  {
   "cell_type": "code",
   "execution_count": null,
   "id": "7d2b6f87",
   "metadata": {},
   "outputs": [],
   "source": [
    "bitboard[0]"
   ]
  },
  {
   "cell_type": "code",
   "execution_count": null,
   "id": "7af4ca0f",
   "metadata": {},
   "outputs": [],
   "source": [
    "from sys import getsizeof\n",
    "getsizeof(bitboard)"
   ]
  },
  {
   "cell_type": "code",
   "execution_count": null,
   "id": "c34139b2",
   "metadata": {},
   "outputs": [],
   "source": [
    "def set_bit(value, bit):\n",
    "    return value | (1<<bit)"
   ]
  },
  {
   "cell_type": "code",
   "execution_count": null,
   "id": "c606ff2c",
   "metadata": {},
   "outputs": [],
   "source": [
    "bitboard | 1 << 63"
   ]
  },
  {
   "cell_type": "code",
   "execution_count": null,
   "id": "754e701e",
   "metadata": {},
   "outputs": [],
   "source": [
    "for bit in range (0,8):\n",
    "    bitboard |= set_bit(bitboard, bit)"
   ]
  },
  {
   "cell_type": "code",
   "execution_count": null,
   "id": "79cad9c4",
   "metadata": {},
   "outputs": [],
   "source": [
    "type(bitboard[0])"
   ]
  },
  {
   "cell_type": "code",
   "execution_count": null,
   "id": "ccc2f9d8",
   "metadata": {},
   "outputs": [],
   "source": [
    "bitboard |= (1 << 1)"
   ]
  }
 ],
 "metadata": {
  "kernelspec": {
   "display_name": "Python 3 (ipykernel)",
   "language": "python",
   "name": "python3"
  },
  "language_info": {
   "codemirror_mode": {
    "name": "ipython",
    "version": 3
   },
   "file_extension": ".py",
   "mimetype": "text/x-python",
   "name": "python",
   "nbconvert_exporter": "python",
   "pygments_lexer": "ipython3",
   "version": "3.8.6"
  }
 },
 "nbformat": 4,
 "nbformat_minor": 5
}
