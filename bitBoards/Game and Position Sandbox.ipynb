{
 "cells": [
  {
   "cell_type": "code",
   "execution_count": 12,
   "id": "daa61aff",
   "metadata": {},
   "outputs": [],
   "source": [
    "from game import Game\n",
    "from position import Position\n",
    "from bitboardInfrastructure import Board\n",
    "from constants import Piece, SquarePosition as sq\n",
    "from bitboard_helpers import pprint_bb as pprint\n",
    "import numpy as np"
   ]
  },
  {
   "cell_type": "code",
   "execution_count": 13,
   "id": "de02cd11",
   "metadata": {},
   "outputs": [],
   "source": [
    "game = Game()"
   ]
  },
  {
   "cell_type": "code",
   "execution_count": 14,
   "id": "a411fb4d",
   "metadata": {},
   "outputs": [
    {
     "data": {
      "text/plain": [
       "{'board': <bitboardInfrastructure.Board object at 0x7f0b08329910>, 'to_move': 0, 'castle_rights': {0: True, 1: True}, 'en_passant_target': None, 'halfmove_clock': 0, 'piece_map': {1: {8, 9, 10, 11, 12, 13, 14, 15}, 2: {0, 7}, 3: {1, 6}, 4: {2, 5}, 5: {3}, 6: {4}, 7: {48, 49, 50, 51, 52, 53, 54, 55}, 8: {56, 63}, 9: {57, 62}, 10: {58, 61}, 11: {59}, 12: {60}}}"
      ]
     },
     "execution_count": 14,
     "metadata": {},
     "output_type": "execute_result"
    }
   ],
   "source": [
    "game.get_current_position().__dict__"
   ]
  },
  {
   "cell_type": "code",
   "execution_count": 5,
   "id": "2b3a05e1",
   "metadata": {},
   "outputs": [
    {
     "data": {
      "text/plain": [
       "<bitboardInfrastructure.Board at 0x7f0b08329f10>"
      ]
     },
     "execution_count": 5,
     "metadata": {},
     "output_type": "execute_result"
    }
   ],
   "source": [
    "position = game.get_current_position()\n",
    "position.board"
   ]
  },
  {
   "cell_type": "code",
   "execution_count": 7,
   "id": "63e3eea7",
   "metadata": {},
   "outputs": [],
   "source": [
    "black_pieces = position.board.black_pieces_bb"
   ]
  },
  {
   "cell_type": "code",
   "execution_count": 8,
   "id": "592243ea",
   "metadata": {},
   "outputs": [],
   "source": [
    "white_pieces = position.board.white_pieces_bb"
   ]
  },
  {
   "cell_type": "code",
   "execution_count": 9,
   "id": "4cde55b0",
   "metadata": {},
   "outputs": [],
   "source": [
    "white_pieces = position.board.white_pieces_bb"
   ]
  },
  {
   "cell_type": "code",
   "execution_count": null,
   "id": "0db81939",
   "metadata": {},
   "outputs": [],
   "source": []
  },
  {
   "cell_type": "code",
   "execution_count": 10,
   "id": "2f15fd56",
   "metadata": {},
   "outputs": [
    {
     "name": "stdout",
     "output_type": "stream",
     "text": [
      "Pretty printing has been turned OFF\n"
     ]
    }
   ],
   "source": [
    "pprint(white_pieces)"
   ]
  },
  {
   "cell_type": "code",
   "execution_count": null,
   "id": "2129cf88",
   "metadata": {},
   "outputs": [],
   "source": [
    "pprint(black_pieces)"
   ]
  },
  {
   "cell_type": "code",
   "execution_count": null,
   "id": "72bc7c80",
   "metadata": {},
   "outputs": [],
   "source": [
    "pprint(white_pieces | black_pieces)"
   ]
  },
  {
   "cell_type": "code",
   "execution_count": null,
   "id": "7b0e91ba",
   "metadata": {},
   "outputs": [],
   "source": [
    "from constants import Piece, SquarePosition as sq\n",
    "from move import Move"
   ]
  },
  {
   "cell_type": "code",
   "execution_count": null,
   "id": "cd5c3d0b",
   "metadata": {},
   "outputs": [],
   "source": [
    "position = game.get_current_position()\n",
    "position.board"
   ]
  },
  {
   "cell_type": "code",
   "execution_count": null,
   "id": "8bea7e63",
   "metadata": {},
   "outputs": [],
   "source": [
    "move = Move(Piece.wP, (sq.e2, sq.e4), False, False)\n",
    "\n",
    "position.make_move(move)"
   ]
  },
  {
   "cell_type": "code",
   "execution_count": null,
   "id": "81010d0a",
   "metadata": {},
   "outputs": [],
   "source": [
    "position.board.white_pieces_bb"
   ]
  },
  {
   "cell_type": "code",
   "execution_count": null,
   "id": "b250445a",
   "metadata": {},
   "outputs": [],
   "source": [
    "pprint(position.board.black_pieces_bb)"
   ]
  },
  {
   "cell_type": "code",
   "execution_count": null,
   "id": "4e6c730a",
   "metadata": {},
   "outputs": [],
   "source": [
    "pprint(position.board.occupied_squares_bb)"
   ]
  },
  {
   "cell_type": "code",
   "execution_count": null,
   "id": "3cb3a8ce",
   "metadata": {},
   "outputs": [],
   "source": [
    "move = Move( Piece.bP, (sq.e7, sq.e5), False, False)\n",
    "position.make_move(move)"
   ]
  },
  {
   "cell_type": "code",
   "execution_count": null,
   "id": "10a890dc",
   "metadata": {},
   "outputs": [],
   "source": [
    "pprint(position.board.occupied_squares_bb)"
   ]
  },
  {
   "cell_type": "code",
   "execution_count": null,
   "id": "b6923e10",
   "metadata": {},
   "outputs": [],
   "source": [
    "move = Move(Piece.wN, (sq.g1, sq.f3), False, False)\n",
    "position.make_move(move)\n",
    "pprint(position.board.occupied_squares_bb)"
   ]
  },
  {
   "cell_type": "code",
   "execution_count": null,
   "id": "d8e8e34f",
   "metadata": {},
   "outputs": [],
   "source": [
    "move = Move(Piece.bN, (sq.b8, sq.c6), False, False)\n",
    "position.make_move(move)\n",
    "pprint(position.board.occupied_squares_bb)"
   ]
  },
  {
   "cell_type": "code",
   "execution_count": null,
   "id": "242f235a",
   "metadata": {},
   "outputs": [],
   "source": [
    "move = Move(Piece.wB, (sq.f1, sq.b5), False, False)\n",
    "position.make_move(move)\n",
    "pprint(position.board.occupied_squares_bb)"
   ]
  },
  {
   "cell_type": "code",
   "execution_count": null,
   "id": "92b3a1d7",
   "metadata": {},
   "outputs": [],
   "source": [
    "move = Move(Piece.bP, (sq.a7, sq.a6), False, False)\n",
    "position.make_move(move)\n",
    "pprint(position.board.occupied_squares_bb)"
   ]
  },
  {
   "cell_type": "code",
   "execution_count": null,
   "id": "74a59dd8",
   "metadata": {},
   "outputs": [],
   "source": [
    "move = Move(Piece.wB, (sq.b5, sq.a4), False, False)\n",
    "position.make_move(move)\n",
    "pprint(position.board.occupied_squares_bb)"
   ]
  },
  {
   "cell_type": "code",
   "execution_count": null,
   "id": "fc62e877",
   "metadata": {},
   "outputs": [],
   "source": [
    "move = Move(Piece.bP, (sq.b7, sq.b5), False, False)\n",
    "position.make_move(move)\n",
    "pprint(position.board.occupied_squares_bb)\n"
   ]
  },
  {
   "cell_type": "code",
   "execution_count": null,
   "id": "4d30abb2",
   "metadata": {},
   "outputs": [],
   "source": [
    "move = Move(Piece.wB, (sq.a4, sq.b3), False, False)\n",
    "position.make_move(move)\n",
    "pprint(position.board.occupied_squares_bb)"
   ]
  },
  {
   "cell_type": "code",
   "execution_count": null,
   "id": "7b126d12",
   "metadata": {},
   "outputs": [],
   "source": [
    "move = Move(Piece.bN, (sq.g8, sq.f6), False, False)\n",
    "position.make_move(move)\n",
    "pprint(position.board.occupied_squares_bb)"
   ]
  },
  {
   "cell_type": "code",
   "execution_count": null,
   "id": "cfec3125",
   "metadata": {},
   "outputs": [],
   "source": []
  },
  {
   "cell_type": "code",
   "execution_count": null,
   "id": "599ade20",
   "metadata": {},
   "outputs": [],
   "source": [
    "def make_empty():\n",
    "    return np.zeros(1, dtype=np.uint64)"
   ]
  },
  {
   "cell_type": "code",
   "execution_count": null,
   "id": "02f70258",
   "metadata": {},
   "outputs": [],
   "source": [
    "test_bb = make_empty()"
   ]
  },
  {
   "cell_type": "code",
   "execution_count": null,
   "id": "bc10da5d",
   "metadata": {},
   "outputs": [],
   "source": [
    "type(test_bb)"
   ]
  },
  {
   "cell_type": "code",
   "execution_count": null,
   "id": "9058a5e9",
   "metadata": {},
   "outputs": [],
   "source": [
    "test_bb[0]"
   ]
  },
  {
   "cell_type": "code",
   "execution_count": null,
   "id": "712cfae1",
   "metadata": {},
   "outputs": [],
   "source": []
  },
  {
   "cell_type": "code",
   "execution_count": null,
   "id": "29e6080b",
   "metadata": {},
   "outputs": [],
   "source": []
  },
  {
   "cell_type": "code",
   "execution_count": null,
   "id": "a2ca746a",
   "metadata": {},
   "outputs": [],
   "source": []
  },
  {
   "cell_type": "code",
   "execution_count": null,
   "id": "45953421",
   "metadata": {},
   "outputs": [],
   "source": []
  },
  {
   "cell_type": "code",
   "execution_count": null,
   "id": "1130a13e",
   "metadata": {},
   "outputs": [],
   "source": []
  },
  {
   "cell_type": "code",
   "execution_count": null,
   "id": "8ab734f7",
   "metadata": {},
   "outputs": [],
   "source": []
  },
  {
   "cell_type": "code",
   "execution_count": null,
   "id": "429c02a1",
   "metadata": {},
   "outputs": [],
   "source": []
  },
  {
   "cell_type": "code",
   "execution_count": null,
   "id": "5a828d81",
   "metadata": {},
   "outputs": [],
   "source": []
  },
  {
   "cell_type": "code",
   "execution_count": null,
   "id": "df550bdc",
   "metadata": {},
   "outputs": [],
   "source": [
    "bitboard = np.zeros(1, dtype=np.uint64)"
   ]
  },
  {
   "cell_type": "code",
   "execution_count": null,
   "id": "e8e7a76d",
   "metadata": {},
   "outputs": [],
   "source": [
    "bitboard.tobytes()"
   ]
  },
  {
   "cell_type": "code",
   "execution_count": null,
   "id": "f8025518",
   "metadata": {},
   "outputs": [],
   "source": [
    "bitboard[0]"
   ]
  },
  {
   "cell_type": "code",
   "execution_count": null,
   "id": "bf346683",
   "metadata": {},
   "outputs": [],
   "source": [
    "from sys import getsizeof\n",
    "getsizeof(bitboard)"
   ]
  },
  {
   "cell_type": "code",
   "execution_count": null,
   "id": "8219672b",
   "metadata": {},
   "outputs": [],
   "source": [
    "def set_bit(value, bit):\n",
    "    return value | (1<<bit)"
   ]
  },
  {
   "cell_type": "code",
   "execution_count": null,
   "id": "8ecad8fb",
   "metadata": {},
   "outputs": [],
   "source": [
    "bitboard | 1 << 63"
   ]
  },
  {
   "cell_type": "code",
   "execution_count": null,
   "id": "c7088e2a",
   "metadata": {},
   "outputs": [],
   "source": [
    "for bit in range (0,8):\n",
    "    bitboard |= set_bit(bitboard, bit)"
   ]
  },
  {
   "cell_type": "code",
   "execution_count": null,
   "id": "a40e63c0",
   "metadata": {},
   "outputs": [],
   "source": [
    "type(bitboard[0])"
   ]
  },
  {
   "cell_type": "code",
   "execution_count": null,
   "id": "c46bb5fd",
   "metadata": {},
   "outputs": [],
   "source": [
    "bitboard |= (1 << 1)"
   ]
  }
 ],
 "metadata": {
  "kernelspec": {
   "display_name": "Python 3 (ipykernel)",
   "language": "python",
   "name": "python3"
  },
  "language_info": {
   "codemirror_mode": {
    "name": "ipython",
    "version": 3
   },
   "file_extension": ".py",
   "mimetype": "text/x-python",
   "name": "python",
   "nbconvert_exporter": "python",
   "pygments_lexer": "ipython3",
   "version": "3.8.6"
  }
 },
 "nbformat": 4,
 "nbformat_minor": 5
}
